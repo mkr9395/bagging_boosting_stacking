{
 "cells": [
  {
   "cell_type": "markdown",
   "id": "020947ad",
   "metadata": {},
   "source": [
    "## Bootstapping + Aggregation\n",
    "\n",
    "### Bootstrapping : Drawing a sample out from a population randomly (Sampling)\n",
    "### Aggregation : Majority count of output from each model"
   ]
  },
  {
   "cell_type": "markdown",
   "id": "4e2ae36d",
   "metadata": {},
   "source": [
    "# Bagging : \n",
    "> All underlying models should be same. But the subset of data provided to each model will be different. We then train each base model on the subset of data.\n",
    "\n",
    "Bagging, short for bootstrap aggregating, is a machine learning ensemble method designed to\n",
    "improve the stability and accuracy of machine learning algorithms used in statistical\n",
    "classification and regression. It also helps to avoid overfitting. The key principle of bagging is to\n",
    "generate multiple subsets of the original data (with replacement), train a separate model for\n",
    "each subset, and then combine the results."
   ]
  },
  {
   "cell_type": "markdown",
   "id": "f3e2d3f0",
   "metadata": {},
   "source": [
    "#### NOTE:\n",
    "\n",
    "Base Models Should always be used with Low Bias High varaince model(eg: Decision Tree, SVM, KNN) to get Low Bias Low Variance results. \n",
    "\n",
    "___(Models most likely to overfit on training data)___"
   ]
  },
  {
   "cell_type": "markdown",
   "id": "2ead5d44",
   "metadata": {},
   "source": [
    "#### In Machine Learning we neeed :\n",
    "\n",
    "### <span class=\"mark\">Low Bias- Low variance Model.</span>"
   ]
  },
  {
   "cell_type": "markdown",
   "id": "7cc148b7",
   "metadata": {},
   "source": [
    "##### Bias: Inability of a model to fit in it's training data. Bad results on training data. ---> High Bias.\n",
    "\n",
    "##### Variance:  Model inability to perfrom on testing data. ---> High Variance\n",
    "\n",
    "### NOTE: Bias and Variance are negatively correlated."
   ]
  },
  {
   "cell_type": "markdown",
   "id": "af81ff99",
   "metadata": {},
   "source": [
    "____"
   ]
  },
  {
   "cell_type": "markdown",
   "id": "da4ac4c5",
   "metadata": {},
   "source": [
    "Most of the ML models are either Low Bias-High variance or High Bias-Low variance. But then how Bagging give Low Bias-Low variance"
   ]
  },
  {
   "cell_type": "markdown",
   "id": "198137be",
   "metadata": {},
   "source": [
    "### How Bagging reduces variance?\n",
    "\n",
    "- We select base models with __low bias and High Variance__ and base models will be same\n",
    "\n",
    "\n",
    "- It creates different subset of data and send to all the models. Not a single base model will get all the noisy points. That is the noisy points will get distributed between all the base models.\n",
    "\n",
    "\n",
    "- Hence variance will be distributed. Thus the variance will reduce as a whole. So, resultant will have low variance. If we make changes in data still there will no significant change in the output of the model.\n",
    "\n",
    "\n",
    "- So because of bagging we will get a model with **Low Bias Low varaince**\n"
   ]
  },
  {
   "cell_type": "markdown",
   "id": "2416ac36",
   "metadata": {},
   "source": [
    "Bagging in not only restriceted to Decision trees. It can work well on KNN and SVM too. i.e models with Low Bias and High Variance base models."
   ]
  },
  {
   "cell_type": "markdown",
   "id": "1792cbc6",
   "metadata": {},
   "source": [
    "___\n",
    "___"
   ]
  },
  {
   "cell_type": "markdown",
   "id": "99a8805e",
   "metadata": {},
   "source": [
    "#### Bagging on Iris dataset"
   ]
  },
  {
   "cell_type": "code",
   "execution_count": 94,
   "id": "fc84ea21",
   "metadata": {
    "ExecuteTime": {
     "end_time": "2022-11-22T20:49:51.293503Z",
     "start_time": "2022-11-22T20:49:51.279176Z"
    }
   },
   "outputs": [],
   "source": [
    "import numpy as np\n",
    "import pandas as pd\n",
    "import matplotlib.pyplot as plt\n",
    "%matplotlib inline"
   ]
  },
  {
   "cell_type": "raw",
   "id": "c9ea755c",
   "metadata": {},
   "source": [
    "from sklearn.datasets import load_iris"
   ]
  },
  {
   "cell_type": "raw",
   "id": "d3a4eb77",
   "metadata": {},
   "source": [
    "iris = load_iris()"
   ]
  },
  {
   "cell_type": "raw",
   "id": "842c0d9f",
   "metadata": {},
   "source": [
    "df = pd.DataFrame(iris.data)"
   ]
  },
  {
   "cell_type": "raw",
   "id": "12bd5bf7",
   "metadata": {},
   "source": [
    "df.columns = iris.feature_names"
   ]
  },
  {
   "cell_type": "raw",
   "id": "21bbc96c",
   "metadata": {},
   "source": [
    "df['Species'] = iris.target"
   ]
  },
  {
   "cell_type": "raw",
   "id": "3b71ccd4",
   "metadata": {},
   "source": [
    "df.to_csv('iris.csv')"
   ]
  },
  {
   "cell_type": "code",
   "execution_count": 95,
   "id": "03da93d2",
   "metadata": {
    "ExecuteTime": {
     "end_time": "2022-11-22T20:49:53.785649Z",
     "start_time": "2022-11-22T20:49:53.765959Z"
    }
   },
   "outputs": [
    {
     "data": {
      "text/html": [
       "<div>\n",
       "<style scoped>\n",
       "    .dataframe tbody tr th:only-of-type {\n",
       "        vertical-align: middle;\n",
       "    }\n",
       "\n",
       "    .dataframe tbody tr th {\n",
       "        vertical-align: top;\n",
       "    }\n",
       "\n",
       "    .dataframe thead th {\n",
       "        text-align: right;\n",
       "    }\n",
       "</style>\n",
       "<table border=\"1\" class=\"dataframe\">\n",
       "  <thead>\n",
       "    <tr style=\"text-align: right;\">\n",
       "      <th></th>\n",
       "      <th>Unnamed: 0</th>\n",
       "      <th>sepal length (cm)</th>\n",
       "      <th>sepal width (cm)</th>\n",
       "      <th>petal length (cm)</th>\n",
       "      <th>petal width (cm)</th>\n",
       "      <th>Species</th>\n",
       "    </tr>\n",
       "  </thead>\n",
       "  <tbody>\n",
       "    <tr>\n",
       "      <th>0</th>\n",
       "      <td>0</td>\n",
       "      <td>5.1</td>\n",
       "      <td>3.5</td>\n",
       "      <td>1.4</td>\n",
       "      <td>0.2</td>\n",
       "      <td>0</td>\n",
       "    </tr>\n",
       "    <tr>\n",
       "      <th>1</th>\n",
       "      <td>1</td>\n",
       "      <td>4.9</td>\n",
       "      <td>3.0</td>\n",
       "      <td>1.4</td>\n",
       "      <td>0.2</td>\n",
       "      <td>0</td>\n",
       "    </tr>\n",
       "    <tr>\n",
       "      <th>2</th>\n",
       "      <td>2</td>\n",
       "      <td>4.7</td>\n",
       "      <td>3.2</td>\n",
       "      <td>1.3</td>\n",
       "      <td>0.2</td>\n",
       "      <td>0</td>\n",
       "    </tr>\n",
       "    <tr>\n",
       "      <th>3</th>\n",
       "      <td>3</td>\n",
       "      <td>4.6</td>\n",
       "      <td>3.1</td>\n",
       "      <td>1.5</td>\n",
       "      <td>0.2</td>\n",
       "      <td>0</td>\n",
       "    </tr>\n",
       "    <tr>\n",
       "      <th>4</th>\n",
       "      <td>4</td>\n",
       "      <td>5.0</td>\n",
       "      <td>3.6</td>\n",
       "      <td>1.4</td>\n",
       "      <td>0.2</td>\n",
       "      <td>0</td>\n",
       "    </tr>\n",
       "  </tbody>\n",
       "</table>\n",
       "</div>"
      ],
      "text/plain": [
       "   Unnamed: 0  sepal length (cm)  sepal width (cm)  petal length (cm)  \\\n",
       "0           0                5.1               3.5                1.4   \n",
       "1           1                4.9               3.0                1.4   \n",
       "2           2                4.7               3.2                1.3   \n",
       "3           3                4.6               3.1                1.5   \n",
       "4           4                5.0               3.6                1.4   \n",
       "\n",
       "   petal width (cm)  Species  \n",
       "0               0.2        0  \n",
       "1               0.2        0  \n",
       "2               0.2        0  \n",
       "3               0.2        0  \n",
       "4               0.2        0  "
      ]
     },
     "execution_count": 95,
     "metadata": {},
     "output_type": "execute_result"
    }
   ],
   "source": [
    "df = pd.read_csv(r'iris.csv')\n",
    "df.head()"
   ]
  },
  {
   "cell_type": "code",
   "execution_count": 96,
   "id": "e0417eb6",
   "metadata": {
    "ExecuteTime": {
     "end_time": "2022-11-22T20:50:05.256460Z",
     "start_time": "2022-11-22T20:49:54.723207Z"
    }
   },
   "outputs": [
    {
     "data": {
      "text/plain": [
       "<seaborn.axisgrid.PairGrid at 0x1445f8b3310>"
      ]
     },
     "execution_count": 96,
     "metadata": {},
     "output_type": "execute_result"
    },
    {
     "data": {
      "image/png": "[encoded data removed]",
      "text/plain": [
       "<Figure size 1314.36x1250 with 30 Axes>"
      ]
     },
     "metadata": {},
     "output_type": "display_data"
    }
   ],
   "source": [
    "import seaborn as sns\n",
    "sns.pairplot(df,hue='Species')"
   ]
  },
  {
   "cell_type": "code",
   "execution_count": 97,
   "id": "cada4892",
   "metadata": {
    "ExecuteTime": {
     "end_time": "2022-11-22T20:50:10.842960Z",
     "start_time": "2022-11-22T20:50:10.822049Z"
    },
    "scrolled": true
   },
   "outputs": [
    {
     "data": {
      "text/html": [
       "<div>\n",
       "<style scoped>\n",
       "    .dataframe tbody tr th:only-of-type {\n",
       "        vertical-align: middle;\n",
       "    }\n",
       "\n",
       "    .dataframe tbody tr th {\n",
       "        vertical-align: top;\n",
       "    }\n",
       "\n",
       "    .dataframe thead th {\n",
       "        text-align: right;\n",
       "    }\n",
       "</style>\n",
       "<table border=\"1\" class=\"dataframe\">\n",
       "  <thead>\n",
       "    <tr style=\"text-align: right;\">\n",
       "      <th></th>\n",
       "      <th>sepal width (cm)</th>\n",
       "      <th>petal length (cm)</th>\n",
       "      <th>Species</th>\n",
       "    </tr>\n",
       "  </thead>\n",
       "  <tbody>\n",
       "    <tr>\n",
       "      <th>50</th>\n",
       "      <td>3.2</td>\n",
       "      <td>4.7</td>\n",
       "      <td>1</td>\n",
       "    </tr>\n",
       "    <tr>\n",
       "      <th>51</th>\n",
       "      <td>3.2</td>\n",
       "      <td>4.5</td>\n",
       "      <td>1</td>\n",
       "    </tr>\n",
       "    <tr>\n",
       "      <th>52</th>\n",
       "      <td>3.1</td>\n",
       "      <td>4.9</td>\n",
       "      <td>1</td>\n",
       "    </tr>\n",
       "    <tr>\n",
       "      <th>53</th>\n",
       "      <td>2.3</td>\n",
       "      <td>4.0</td>\n",
       "      <td>1</td>\n",
       "    </tr>\n",
       "    <tr>\n",
       "      <th>54</th>\n",
       "      <td>2.8</td>\n",
       "      <td>4.6</td>\n",
       "      <td>1</td>\n",
       "    </tr>\n",
       "  </tbody>\n",
       "</table>\n",
       "</div>"
      ],
      "text/plain": [
       "    sepal width (cm)  petal length (cm)  Species\n",
       "50               3.2                4.7        1\n",
       "51               3.2                4.5        1\n",
       "52               3.1                4.9        1\n",
       "53               2.3                4.0        1\n",
       "54               2.8                4.6        1"
      ]
     },
     "execution_count": 97,
     "metadata": {},
     "output_type": "execute_result"
    }
   ],
   "source": [
    "# to make classification task difficult we will take only 2 columns i.e Sepal_width and petal_length\n",
    "\n",
    "new_df = df[df['Species']!=0][['sepal width (cm)','petal length (cm)','Species']]\n",
    "new_df.head()"
   ]
  },
  {
   "cell_type": "code",
   "execution_count": 98,
   "id": "c763d686",
   "metadata": {
    "ExecuteTime": {
     "end_time": "2022-11-22T20:50:12.367498Z",
     "start_time": "2022-11-22T20:50:12.353886Z"
    }
   },
   "outputs": [
    {
     "data": {
      "text/plain": [
       "(100, 3)"
      ]
     },
     "execution_count": 98,
     "metadata": {},
     "output_type": "execute_result"
    }
   ],
   "source": [
    "new_df.shape"
   ]
  },
  {
   "cell_type": "code",
   "execution_count": 99,
   "id": "28c1ccf4",
   "metadata": {
    "ExecuteTime": {
     "end_time": "2022-11-22T20:50:13.367355Z",
     "start_time": "2022-11-22T20:50:13.210071Z"
    }
   },
   "outputs": [
    {
     "data": {
      "text/plain": [
       "<matplotlib.collections.PathCollection at 0x144616d6dc0>"
      ]
     },
     "execution_count": 99,
     "metadata": {},
     "output_type": "execute_result"
    },
    {
     "data": {
      "image/png": "[encoded data removed]",
      "text/plain": [
       "<Figure size 640x480 with 1 Axes>"
      ]
     },
     "metadata": {},
     "output_type": "display_data"
    }
   ],
   "source": [
    "plt.scatter(new_df['sepal width (cm)'],new_df['petal length (cm)'],c=new_df['Species'],cmap='winter')"
   ]
  },
  {
   "cell_type": "code",
   "execution_count": 100,
   "id": "e3916329",
   "metadata": {
    "ExecuteTime": {
     "end_time": "2022-11-22T20:50:14.223443Z",
     "start_time": "2022-11-22T20:50:14.210168Z"
    }
   },
   "outputs": [],
   "source": [
    "#shuffling the rows\n",
    "\n",
    "df = new_df.sample(100) "
   ]
  },
  {
   "cell_type": "code",
   "execution_count": 101,
   "id": "0a38b59d",
   "metadata": {
    "ExecuteTime": {
     "end_time": "2022-11-22T20:50:15.890165Z",
     "start_time": "2022-11-22T20:50:15.873447Z"
    }
   },
   "outputs": [
    {
     "data": {
      "text/html": [
       "<div>\n",
       "<style scoped>\n",
       "    .dataframe tbody tr th:only-of-type {\n",
       "        vertical-align: middle;\n",
       "    }\n",
       "\n",
       "    .dataframe tbody tr th {\n",
       "        vertical-align: top;\n",
       "    }\n",
       "\n",
       "    .dataframe thead th {\n",
       "        text-align: right;\n",
       "    }\n",
       "</style>\n",
       "<table border=\"1\" class=\"dataframe\">\n",
       "  <thead>\n",
       "    <tr style=\"text-align: right;\">\n",
       "      <th></th>\n",
       "      <th>sepal width (cm)</th>\n",
       "      <th>petal length (cm)</th>\n",
       "      <th>Species</th>\n",
       "    </tr>\n",
       "  </thead>\n",
       "  <tbody>\n",
       "    <tr>\n",
       "      <th>82</th>\n",
       "      <td>2.7</td>\n",
       "      <td>3.9</td>\n",
       "      <td>1</td>\n",
       "    </tr>\n",
       "    <tr>\n",
       "      <th>114</th>\n",
       "      <td>2.8</td>\n",
       "      <td>5.1</td>\n",
       "      <td>2</td>\n",
       "    </tr>\n",
       "    <tr>\n",
       "      <th>139</th>\n",
       "      <td>3.1</td>\n",
       "      <td>5.4</td>\n",
       "      <td>2</td>\n",
       "    </tr>\n",
       "    <tr>\n",
       "      <th>67</th>\n",
       "      <td>2.7</td>\n",
       "      <td>4.1</td>\n",
       "      <td>1</td>\n",
       "    </tr>\n",
       "    <tr>\n",
       "      <th>109</th>\n",
       "      <td>3.6</td>\n",
       "      <td>6.1</td>\n",
       "      <td>2</td>\n",
       "    </tr>\n",
       "  </tbody>\n",
       "</table>\n",
       "</div>"
      ],
      "text/plain": [
       "     sepal width (cm)  petal length (cm)  Species\n",
       "82                2.7                3.9        1\n",
       "114               2.8                5.1        2\n",
       "139               3.1                5.4        2\n",
       "67                2.7                4.1        1\n",
       "109               3.6                6.1        2"
      ]
     },
     "execution_count": 101,
     "metadata": {},
     "output_type": "execute_result"
    }
   ],
   "source": [
    "df.head()"
   ]
  },
  {
   "cell_type": "code",
   "execution_count": 102,
   "id": "ff35b5b0",
   "metadata": {
    "ExecuteTime": {
     "end_time": "2022-11-22T20:50:17.029785Z",
     "start_time": "2022-11-22T20:50:17.016085Z"
    }
   },
   "outputs": [],
   "source": [
    "# Taking only 10 rows for training\n",
    "df_train = df.iloc[:60,:].sample(10) # 10 random rows from first 60 rows\n",
    "df_val = df.iloc[60:80,:].sample(5) # from 60-80 row number, selecting 5 random rows for testing and calculating accuracy\n",
    "df_test = df.iloc[80:,:].sample(5)"
   ]
  },
  {
   "cell_type": "code",
   "execution_count": 103,
   "id": "067d5ebb",
   "metadata": {
    "ExecuteTime": {
     "end_time": "2022-11-22T20:50:17.605366Z",
     "start_time": "2022-11-22T20:50:17.584280Z"
    }
   },
   "outputs": [
    {
     "data": {
      "text/html": [
       "<div>\n",
       "<style scoped>\n",
       "    .dataframe tbody tr th:only-of-type {\n",
       "        vertical-align: middle;\n",
       "    }\n",
       "\n",
       "    .dataframe tbody tr th {\n",
       "        vertical-align: top;\n",
       "    }\n",
       "\n",
       "    .dataframe thead th {\n",
       "        text-align: right;\n",
       "    }\n",
       "</style>\n",
       "<table border=\"1\" class=\"dataframe\">\n",
       "  <thead>\n",
       "    <tr style=\"text-align: right;\">\n",
       "      <th></th>\n",
       "      <th>sepal width (cm)</th>\n",
       "      <th>petal length (cm)</th>\n",
       "      <th>Species</th>\n",
       "    </tr>\n",
       "  </thead>\n",
       "  <tbody>\n",
       "    <tr>\n",
       "      <th>141</th>\n",
       "      <td>3.1</td>\n",
       "      <td>5.1</td>\n",
       "      <td>2</td>\n",
       "    </tr>\n",
       "    <tr>\n",
       "      <th>80</th>\n",
       "      <td>2.4</td>\n",
       "      <td>3.8</td>\n",
       "      <td>1</td>\n",
       "    </tr>\n",
       "    <tr>\n",
       "      <th>104</th>\n",
       "      <td>3.0</td>\n",
       "      <td>5.8</td>\n",
       "      <td>2</td>\n",
       "    </tr>\n",
       "    <tr>\n",
       "      <th>79</th>\n",
       "      <td>2.6</td>\n",
       "      <td>3.5</td>\n",
       "      <td>1</td>\n",
       "    </tr>\n",
       "    <tr>\n",
       "      <th>143</th>\n",
       "      <td>3.2</td>\n",
       "      <td>5.9</td>\n",
       "      <td>2</td>\n",
       "    </tr>\n",
       "    <tr>\n",
       "      <th>129</th>\n",
       "      <td>3.0</td>\n",
       "      <td>5.8</td>\n",
       "      <td>2</td>\n",
       "    </tr>\n",
       "    <tr>\n",
       "      <th>82</th>\n",
       "      <td>2.7</td>\n",
       "      <td>3.9</td>\n",
       "      <td>1</td>\n",
       "    </tr>\n",
       "    <tr>\n",
       "      <th>118</th>\n",
       "      <td>2.6</td>\n",
       "      <td>6.9</td>\n",
       "      <td>2</td>\n",
       "    </tr>\n",
       "    <tr>\n",
       "      <th>75</th>\n",
       "      <td>3.0</td>\n",
       "      <td>4.4</td>\n",
       "      <td>1</td>\n",
       "    </tr>\n",
       "    <tr>\n",
       "      <th>96</th>\n",
       "      <td>2.9</td>\n",
       "      <td>4.2</td>\n",
       "      <td>1</td>\n",
       "    </tr>\n",
       "  </tbody>\n",
       "</table>\n",
       "</div>"
      ],
      "text/plain": [
       "     sepal width (cm)  petal length (cm)  Species\n",
       "141               3.1                5.1        2\n",
       "80                2.4                3.8        1\n",
       "104               3.0                5.8        2\n",
       "79                2.6                3.5        1\n",
       "143               3.2                5.9        2\n",
       "129               3.0                5.8        2\n",
       "82                2.7                3.9        1\n",
       "118               2.6                6.9        2\n",
       "75                3.0                4.4        1\n",
       "96                2.9                4.2        1"
      ]
     },
     "execution_count": 103,
     "metadata": {},
     "output_type": "execute_result"
    }
   ],
   "source": [
    "df_train\n",
    "\n",
    "# all uniques rows"
   ]
  },
  {
   "cell_type": "code",
   "execution_count": 104,
   "id": "19e3af51",
   "metadata": {
    "ExecuteTime": {
     "end_time": "2022-11-22T20:50:18.389960Z",
     "start_time": "2022-11-22T20:50:18.381329Z"
    }
   },
   "outputs": [
    {
     "data": {
      "text/html": [
       "<div>\n",
       "<style scoped>\n",
       "    .dataframe tbody tr th:only-of-type {\n",
       "        vertical-align: middle;\n",
       "    }\n",
       "\n",
       "    .dataframe tbody tr th {\n",
       "        vertical-align: top;\n",
       "    }\n",
       "\n",
       "    .dataframe thead th {\n",
       "        text-align: right;\n",
       "    }\n",
       "</style>\n",
       "<table border=\"1\" class=\"dataframe\">\n",
       "  <thead>\n",
       "    <tr style=\"text-align: right;\">\n",
       "      <th></th>\n",
       "      <th>sepal width (cm)</th>\n",
       "      <th>petal length (cm)</th>\n",
       "      <th>Species</th>\n",
       "    </tr>\n",
       "  </thead>\n",
       "  <tbody>\n",
       "    <tr>\n",
       "      <th>134</th>\n",
       "      <td>2.6</td>\n",
       "      <td>5.6</td>\n",
       "      <td>2</td>\n",
       "    </tr>\n",
       "    <tr>\n",
       "      <th>77</th>\n",
       "      <td>3.0</td>\n",
       "      <td>5.0</td>\n",
       "      <td>1</td>\n",
       "    </tr>\n",
       "    <tr>\n",
       "      <th>97</th>\n",
       "      <td>2.9</td>\n",
       "      <td>4.3</td>\n",
       "      <td>1</td>\n",
       "    </tr>\n",
       "    <tr>\n",
       "      <th>112</th>\n",
       "      <td>3.0</td>\n",
       "      <td>5.5</td>\n",
       "      <td>2</td>\n",
       "    </tr>\n",
       "    <tr>\n",
       "      <th>107</th>\n",
       "      <td>2.9</td>\n",
       "      <td>6.3</td>\n",
       "      <td>2</td>\n",
       "    </tr>\n",
       "  </tbody>\n",
       "</table>\n",
       "</div>"
      ],
      "text/plain": [
       "     sepal width (cm)  petal length (cm)  Species\n",
       "134               2.6                5.6        2\n",
       "77                3.0                5.0        1\n",
       "97                2.9                4.3        1\n",
       "112               3.0                5.5        2\n",
       "107               2.9                6.3        2"
      ]
     },
     "execution_count": 104,
     "metadata": {},
     "output_type": "execute_result"
    }
   ],
   "source": [
    "df_val\n",
    "\n",
    "# unique values"
   ]
  },
  {
   "cell_type": "code",
   "execution_count": 105,
   "id": "6bc46e3b",
   "metadata": {
    "ExecuteTime": {
     "end_time": "2022-11-22T20:50:26.444322Z",
     "start_time": "2022-11-22T20:50:26.427999Z"
    }
   },
   "outputs": [
    {
     "data": {
      "text/html": [
       "<div>\n",
       "<style scoped>\n",
       "    .dataframe tbody tr th:only-of-type {\n",
       "        vertical-align: middle;\n",
       "    }\n",
       "\n",
       "    .dataframe tbody tr th {\n",
       "        vertical-align: top;\n",
       "    }\n",
       "\n",
       "    .dataframe thead th {\n",
       "        text-align: right;\n",
       "    }\n",
       "</style>\n",
       "<table border=\"1\" class=\"dataframe\">\n",
       "  <thead>\n",
       "    <tr style=\"text-align: right;\">\n",
       "      <th></th>\n",
       "      <th>sepal width (cm)</th>\n",
       "      <th>petal length (cm)</th>\n",
       "      <th>Species</th>\n",
       "    </tr>\n",
       "  </thead>\n",
       "  <tbody>\n",
       "    <tr>\n",
       "      <th>59</th>\n",
       "      <td>2.7</td>\n",
       "      <td>3.9</td>\n",
       "      <td>1</td>\n",
       "    </tr>\n",
       "    <tr>\n",
       "      <th>138</th>\n",
       "      <td>3.0</td>\n",
       "      <td>4.8</td>\n",
       "      <td>2</td>\n",
       "    </tr>\n",
       "    <tr>\n",
       "      <th>95</th>\n",
       "      <td>3.0</td>\n",
       "      <td>4.2</td>\n",
       "      <td>1</td>\n",
       "    </tr>\n",
       "    <tr>\n",
       "      <th>140</th>\n",
       "      <td>3.1</td>\n",
       "      <td>5.6</td>\n",
       "      <td>2</td>\n",
       "    </tr>\n",
       "    <tr>\n",
       "      <th>119</th>\n",
       "      <td>2.2</td>\n",
       "      <td>5.0</td>\n",
       "      <td>2</td>\n",
       "    </tr>\n",
       "  </tbody>\n",
       "</table>\n",
       "</div>"
      ],
      "text/plain": [
       "     sepal width (cm)  petal length (cm)  Species\n",
       "59                2.7                3.9        1\n",
       "138               3.0                4.8        2\n",
       "95                3.0                4.2        1\n",
       "140               3.1                5.6        2\n",
       "119               2.2                5.0        2"
      ]
     },
     "execution_count": 105,
     "metadata": {},
     "output_type": "execute_result"
    }
   ],
   "source": [
    "df_test\n",
    "\n",
    "# unique values"
   ]
  },
  {
   "cell_type": "code",
   "execution_count": 106,
   "id": "e918b3c8",
   "metadata": {
    "ExecuteTime": {
     "end_time": "2022-11-22T20:50:27.174795Z",
     "start_time": "2022-11-22T20:50:27.169394Z"
    }
   },
   "outputs": [],
   "source": [
    "X_test = df_val.iloc[:,:2].values\n",
    "y_test = df_val.iloc[:,-1].values"
   ]
  },
  {
   "cell_type": "code",
   "execution_count": 107,
   "id": "3519b6d3",
   "metadata": {
    "ExecuteTime": {
     "end_time": "2022-11-22T20:50:27.874414Z",
     "start_time": "2022-11-22T20:50:27.854719Z"
    }
   },
   "outputs": [
    {
     "data": {
      "text/plain": [
       "array([[2.6, 5.6],\n",
       "       [3. , 5. ],\n",
       "       [2.9, 4.3],\n",
       "       [3. , 5.5],\n",
       "       [2.9, 6.3]])"
      ]
     },
     "execution_count": 107,
     "metadata": {},
     "output_type": "execute_result"
    }
   ],
   "source": [
    "X_test"
   ]
  },
  {
   "cell_type": "code",
   "execution_count": 108,
   "id": "99a1ef87",
   "metadata": {
    "ExecuteTime": {
     "end_time": "2022-11-22T20:50:28.573871Z",
     "start_time": "2022-11-22T20:50:28.556243Z"
    }
   },
   "outputs": [
    {
     "data": {
      "text/plain": [
       "array([2, 1, 1, 2, 2], dtype=int64)"
      ]
     },
     "execution_count": 108,
     "metadata": {},
     "output_type": "execute_result"
    }
   ],
   "source": [
    "y_test"
   ]
  },
  {
   "cell_type": "markdown",
   "id": "b703b544",
   "metadata": {},
   "source": [
    "## Case 1: Bagging\n",
    "\n",
    "Training 3 base models here will be Decision Trees.\n",
    "\n",
    "All trees will have 80% of data"
   ]
  },
  {
   "cell_type": "code",
   "execution_count": 153,
   "id": "b3de50ba",
   "metadata": {
    "ExecuteTime": {
     "end_time": "2022-11-22T20:56:16.621446Z",
     "start_time": "2022-11-22T20:56:16.601963Z"
    },
    "scrolled": true
   },
   "outputs": [
    {
     "data": {
      "text/html": [
       "<div>\n",
       "<style scoped>\n",
       "    .dataframe tbody tr th:only-of-type {\n",
       "        vertical-align: middle;\n",
       "    }\n",
       "\n",
       "    .dataframe tbody tr th {\n",
       "        vertical-align: top;\n",
       "    }\n",
       "\n",
       "    .dataframe thead th {\n",
       "        text-align: right;\n",
       "    }\n",
       "</style>\n",
       "<table border=\"1\" class=\"dataframe\">\n",
       "  <thead>\n",
       "    <tr style=\"text-align: right;\">\n",
       "      <th></th>\n",
       "      <th>sepal width (cm)</th>\n",
       "      <th>petal length (cm)</th>\n",
       "      <th>Species</th>\n",
       "    </tr>\n",
       "  </thead>\n",
       "  <tbody>\n",
       "    <tr>\n",
       "      <th>80</th>\n",
       "      <td>2.4</td>\n",
       "      <td>3.8</td>\n",
       "      <td>1</td>\n",
       "    </tr>\n",
       "    <tr>\n",
       "      <th>143</th>\n",
       "      <td>3.2</td>\n",
       "      <td>5.9</td>\n",
       "      <td>2</td>\n",
       "    </tr>\n",
       "    <tr>\n",
       "      <th>143</th>\n",
       "      <td>3.2</td>\n",
       "      <td>5.9</td>\n",
       "      <td>2</td>\n",
       "    </tr>\n",
       "    <tr>\n",
       "      <th>141</th>\n",
       "      <td>3.1</td>\n",
       "      <td>5.1</td>\n",
       "      <td>2</td>\n",
       "    </tr>\n",
       "    <tr>\n",
       "      <th>141</th>\n",
       "      <td>3.1</td>\n",
       "      <td>5.1</td>\n",
       "      <td>2</td>\n",
       "    </tr>\n",
       "    <tr>\n",
       "      <th>118</th>\n",
       "      <td>2.6</td>\n",
       "      <td>6.9</td>\n",
       "      <td>2</td>\n",
       "    </tr>\n",
       "    <tr>\n",
       "      <th>141</th>\n",
       "      <td>3.1</td>\n",
       "      <td>5.1</td>\n",
       "      <td>2</td>\n",
       "    </tr>\n",
       "    <tr>\n",
       "      <th>141</th>\n",
       "      <td>3.1</td>\n",
       "      <td>5.1</td>\n",
       "      <td>2</td>\n",
       "    </tr>\n",
       "  </tbody>\n",
       "</table>\n",
       "</div>"
      ],
      "text/plain": [
       "     sepal width (cm)  petal length (cm)  Species\n",
       "80                2.4                3.8        1\n",
       "143               3.2                5.9        2\n",
       "143               3.2                5.9        2\n",
       "141               3.1                5.1        2\n",
       "141               3.1                5.1        2\n",
       "118               2.6                6.9        2\n",
       "141               3.1                5.1        2\n",
       "141               3.1                5.1        2"
      ]
     },
     "execution_count": 153,
     "metadata": {},
     "output_type": "execute_result"
    }
   ],
   "source": [
    "# Data for Tree 1\n",
    "\n",
    "df_bag = df_train.sample(8,replace = True) # sampling with replacement i.e same row can come multiple times\n",
    "\n",
    "X = df_bag.iloc[:,0:2]\n",
    "y = df_bag.iloc[:,-1]\n",
    "\n",
    "df_bag"
   ]
  },
  {
   "cell_type": "code",
   "execution_count": 154,
   "id": "3887522b",
   "metadata": {
    "ExecuteTime": {
     "end_time": "2022-11-22T20:56:16.777031Z",
     "start_time": "2022-11-22T20:56:16.771022Z"
    },
    "scrolled": true
   },
   "outputs": [
    {
     "data": {
      "text/html": [
       "<div>\n",
       "<style scoped>\n",
       "    .dataframe tbody tr th:only-of-type {\n",
       "        vertical-align: middle;\n",
       "    }\n",
       "\n",
       "    .dataframe tbody tr th {\n",
       "        vertical-align: top;\n",
       "    }\n",
       "\n",
       "    .dataframe thead th {\n",
       "        text-align: right;\n",
       "    }\n",
       "</style>\n",
       "<table border=\"1\" class=\"dataframe\">\n",
       "  <thead>\n",
       "    <tr style=\"text-align: right;\">\n",
       "      <th></th>\n",
       "      <th>sepal width (cm)</th>\n",
       "      <th>petal length (cm)</th>\n",
       "    </tr>\n",
       "  </thead>\n",
       "  <tbody>\n",
       "    <tr>\n",
       "      <th>80</th>\n",
       "      <td>2.4</td>\n",
       "      <td>3.8</td>\n",
       "    </tr>\n",
       "    <tr>\n",
       "      <th>143</th>\n",
       "      <td>3.2</td>\n",
       "      <td>5.9</td>\n",
       "    </tr>\n",
       "    <tr>\n",
       "      <th>143</th>\n",
       "      <td>3.2</td>\n",
       "      <td>5.9</td>\n",
       "    </tr>\n",
       "    <tr>\n",
       "      <th>141</th>\n",
       "      <td>3.1</td>\n",
       "      <td>5.1</td>\n",
       "    </tr>\n",
       "    <tr>\n",
       "      <th>141</th>\n",
       "      <td>3.1</td>\n",
       "      <td>5.1</td>\n",
       "    </tr>\n",
       "    <tr>\n",
       "      <th>118</th>\n",
       "      <td>2.6</td>\n",
       "      <td>6.9</td>\n",
       "    </tr>\n",
       "    <tr>\n",
       "      <th>141</th>\n",
       "      <td>3.1</td>\n",
       "      <td>5.1</td>\n",
       "    </tr>\n",
       "    <tr>\n",
       "      <th>141</th>\n",
       "      <td>3.1</td>\n",
       "      <td>5.1</td>\n",
       "    </tr>\n",
       "  </tbody>\n",
       "</table>\n",
       "</div>"
      ],
      "text/plain": [
       "     sepal width (cm)  petal length (cm)\n",
       "80                2.4                3.8\n",
       "143               3.2                5.9\n",
       "143               3.2                5.9\n",
       "141               3.1                5.1\n",
       "141               3.1                5.1\n",
       "118               2.6                6.9\n",
       "141               3.1                5.1\n",
       "141               3.1                5.1"
      ]
     },
     "execution_count": 154,
     "metadata": {},
     "output_type": "execute_result"
    }
   ],
   "source": [
    "X"
   ]
  },
  {
   "cell_type": "code",
   "execution_count": 155,
   "id": "3f8f15af",
   "metadata": {
    "ExecuteTime": {
     "end_time": "2022-11-22T20:56:16.965223Z",
     "start_time": "2022-11-22T20:56:16.945251Z"
    }
   },
   "outputs": [
    {
     "data": {
      "text/plain": [
       "80     1\n",
       "143    2\n",
       "143    2\n",
       "141    2\n",
       "141    2\n",
       "118    2\n",
       "141    2\n",
       "141    2\n",
       "Name: Species, dtype: int64"
      ]
     },
     "execution_count": 155,
     "metadata": {},
     "output_type": "execute_result"
    }
   ],
   "source": [
    "y"
   ]
  },
  {
   "cell_type": "code",
   "execution_count": 156,
   "id": "440ab4a6",
   "metadata": {
    "ExecuteTime": {
     "end_time": "2022-11-22T20:56:17.165926Z",
     "start_time": "2022-11-22T20:56:17.154825Z"
    }
   },
   "outputs": [],
   "source": [
    "from sklearn.tree import DecisionTreeClassifier\n",
    "from sklearn.tree import plot_tree\n",
    "from sklearn.metrics import accuracy_score"
   ]
  },
  {
   "cell_type": "code",
   "execution_count": 157,
   "id": "5e9d8aff",
   "metadata": {
    "ExecuteTime": {
     "end_time": "2022-11-22T20:56:17.741818Z",
     "start_time": "2022-11-22T20:56:17.725816Z"
    }
   },
   "outputs": [],
   "source": [
    "from mlxtend.plotting import plot_decision_regions"
   ]
  },
  {
   "cell_type": "code",
   "execution_count": 158,
   "id": "8ac1d0bf",
   "metadata": {
    "ExecuteTime": {
     "end_time": "2022-11-22T20:56:18.085129Z",
     "start_time": "2022-11-22T20:56:18.069146Z"
    }
   },
   "outputs": [],
   "source": [
    "dt_bag1 = DecisionTreeClassifier()"
   ]
  },
  {
   "cell_type": "code",
   "execution_count": 165,
   "id": "f7c71826",
   "metadata": {
    "ExecuteTime": {
     "end_time": "2022-11-22T20:57:22.567316Z",
     "start_time": "2022-11-22T20:57:22.552311Z"
    }
   },
   "outputs": [],
   "source": [
    "def evaluate(clf,X,y): # decision_tree, training_data\n",
    "    clf.fit(X.values,y)       # training the train_data \n",
    "    plot_tree(clf)     # plotting the decision_tree\n",
    "    plt.show()\n",
    "    plot_decision_regions(X.values, y.values, clf=clf, legend=2)  #plotting decision regions\n",
    "    y_pred=clf.predict(X_test)    #plotting accuracy using X_test and y_test\n",
    "    \n",
    "    return (\"accuracy score:\",accuracy_score(y_test,y_pred)) \n",
    "    "
   ]
  },
  {
   "cell_type": "code",
   "execution_count": 166,
   "id": "2012e8ed",
   "metadata": {
    "ExecuteTime": {
     "end_time": "2022-11-22T20:57:26.421537Z",
     "start_time": "2022-11-22T20:57:23.533472Z"
    },
    "scrolled": false
   },
   "outputs": [
    {
     "data": {
      "image/png": "[encoded data removed]",
      "text/plain": [
       "<Figure size 640x480 with 1 Axes>"
      ]
     },
     "metadata": {},
     "output_type": "display_data"
    },
    {
     "data": {
      "text/plain": [
       "('accuracy score:', 0.8)"
      ]
     },
     "execution_count": 166,
     "metadata": {},
     "output_type": "execute_result"
    },
    {
     "data": {
      "image/png": "[encoded data removed]",
      "text/plain": [
       "<Figure size 640x480 with 1 Axes>"
      ]
     },
     "metadata": {},
     "output_type": "display_data"
    }
   ],
   "source": [
    "evaluate(dt_bag1,X,y)"
   ]
  },
  {
   "cell_type": "code",
   "execution_count": 167,
   "id": "fc8f961c",
   "metadata": {
    "ExecuteTime": {
     "end_time": "2022-11-22T20:57:26.452537Z",
     "start_time": "2022-11-22T20:57:26.424523Z"
    }
   },
   "outputs": [
    {
     "data": {
      "text/html": [
       "<div>\n",
       "<style scoped>\n",
       "    .dataframe tbody tr th:only-of-type {\n",
       "        vertical-align: middle;\n",
       "    }\n",
       "\n",
       "    .dataframe tbody tr th {\n",
       "        vertical-align: top;\n",
       "    }\n",
       "\n",
       "    .dataframe thead th {\n",
       "        text-align: right;\n",
       "    }\n",
       "</style>\n",
       "<table border=\"1\" class=\"dataframe\">\n",
       "  <thead>\n",
       "    <tr style=\"text-align: right;\">\n",
       "      <th></th>\n",
       "      <th>sepal width (cm)</th>\n",
       "      <th>petal length (cm)</th>\n",
       "      <th>Species</th>\n",
       "    </tr>\n",
       "  </thead>\n",
       "  <tbody>\n",
       "    <tr>\n",
       "      <th>129</th>\n",
       "      <td>3.0</td>\n",
       "      <td>5.8</td>\n",
       "      <td>2</td>\n",
       "    </tr>\n",
       "    <tr>\n",
       "      <th>96</th>\n",
       "      <td>2.9</td>\n",
       "      <td>4.2</td>\n",
       "      <td>1</td>\n",
       "    </tr>\n",
       "    <tr>\n",
       "      <th>79</th>\n",
       "      <td>2.6</td>\n",
       "      <td>3.5</td>\n",
       "      <td>1</td>\n",
       "    </tr>\n",
       "    <tr>\n",
       "      <th>143</th>\n",
       "      <td>3.2</td>\n",
       "      <td>5.9</td>\n",
       "      <td>2</td>\n",
       "    </tr>\n",
       "    <tr>\n",
       "      <th>143</th>\n",
       "      <td>3.2</td>\n",
       "      <td>5.9</td>\n",
       "      <td>2</td>\n",
       "    </tr>\n",
       "    <tr>\n",
       "      <th>129</th>\n",
       "      <td>3.0</td>\n",
       "      <td>5.8</td>\n",
       "      <td>2</td>\n",
       "    </tr>\n",
       "    <tr>\n",
       "      <th>82</th>\n",
       "      <td>2.7</td>\n",
       "      <td>3.9</td>\n",
       "      <td>1</td>\n",
       "    </tr>\n",
       "    <tr>\n",
       "      <th>129</th>\n",
       "      <td>3.0</td>\n",
       "      <td>5.8</td>\n",
       "      <td>2</td>\n",
       "    </tr>\n",
       "  </tbody>\n",
       "</table>\n",
       "</div>"
      ],
      "text/plain": [
       "     sepal width (cm)  petal length (cm)  Species\n",
       "129               3.0                5.8        2\n",
       "96                2.9                4.2        1\n",
       "79                2.6                3.5        1\n",
       "143               3.2                5.9        2\n",
       "143               3.2                5.9        2\n",
       "129               3.0                5.8        2\n",
       "82                2.7                3.9        1\n",
       "129               3.0                5.8        2"
      ]
     },
     "execution_count": 167,
     "metadata": {},
     "output_type": "execute_result"
    }
   ],
   "source": [
    "# Data for Tree 2\n",
    "df_bag = df_train.sample(8,replace=True)\n",
    "\n",
    "# Fetch X and y\n",
    "X = df_bag.iloc[:,0:2]\n",
    "y = df_bag.iloc[:,-1]\n",
    "\n",
    "# print df_bag\n",
    "df_bag"
   ]
  },
  {
   "cell_type": "code",
   "execution_count": 168,
   "id": "8b481c8d",
   "metadata": {
    "ExecuteTime": {
     "end_time": "2022-11-22T20:57:27.112794Z",
     "start_time": "2022-11-22T20:57:26.539802Z"
    },
    "scrolled": true
   },
   "outputs": [
    {
     "data": {
      "image/png": "[encoded data removed]",
      "text/plain": [
       "<Figure size 640x480 with 1 Axes>"
      ]
     },
     "metadata": {},
     "output_type": "display_data"
    },
    {
     "data": {
      "text/plain": [
       "('accuracy score:', 1.0)"
      ]
     },
     "execution_count": 168,
     "metadata": {},
     "output_type": "execute_result"
    },
    {
     "data": {
      "image/png": "[encoded data removed]",
      "text/plain": [
       "<Figure size 640x480 with 1 Axes>"
      ]
     },
     "metadata": {},
     "output_type": "display_data"
    }
   ],
   "source": [
    "dt_bag2 = DecisionTreeClassifier()\n",
    "evaluate(dt_bag2,X,y)"
   ]
  },
  {
   "cell_type": "markdown",
   "id": "738b4945",
   "metadata": {},
   "source": [
    "80% accuracy"
   ]
  },
  {
   "cell_type": "code",
   "execution_count": 169,
   "id": "dae249f2",
   "metadata": {
    "ExecuteTime": {
     "end_time": "2022-11-22T20:57:34.999206Z",
     "start_time": "2022-11-22T20:57:34.979294Z"
    }
   },
   "outputs": [
    {
     "data": {
      "text/html": [
       "<div>\n",
       "<style scoped>\n",
       "    .dataframe tbody tr th:only-of-type {\n",
       "        vertical-align: middle;\n",
       "    }\n",
       "\n",
       "    .dataframe tbody tr th {\n",
       "        vertical-align: top;\n",
       "    }\n",
       "\n",
       "    .dataframe thead th {\n",
       "        text-align: right;\n",
       "    }\n",
       "</style>\n",
       "<table border=\"1\" class=\"dataframe\">\n",
       "  <thead>\n",
       "    <tr style=\"text-align: right;\">\n",
       "      <th></th>\n",
       "      <th>sepal width (cm)</th>\n",
       "      <th>petal length (cm)</th>\n",
       "      <th>Species</th>\n",
       "    </tr>\n",
       "  </thead>\n",
       "  <tbody>\n",
       "    <tr>\n",
       "      <th>82</th>\n",
       "      <td>2.7</td>\n",
       "      <td>3.9</td>\n",
       "      <td>1</td>\n",
       "    </tr>\n",
       "    <tr>\n",
       "      <th>118</th>\n",
       "      <td>2.6</td>\n",
       "      <td>6.9</td>\n",
       "      <td>2</td>\n",
       "    </tr>\n",
       "    <tr>\n",
       "      <th>96</th>\n",
       "      <td>2.9</td>\n",
       "      <td>4.2</td>\n",
       "      <td>1</td>\n",
       "    </tr>\n",
       "    <tr>\n",
       "      <th>96</th>\n",
       "      <td>2.9</td>\n",
       "      <td>4.2</td>\n",
       "      <td>1</td>\n",
       "    </tr>\n",
       "    <tr>\n",
       "      <th>141</th>\n",
       "      <td>3.1</td>\n",
       "      <td>5.1</td>\n",
       "      <td>2</td>\n",
       "    </tr>\n",
       "    <tr>\n",
       "      <th>96</th>\n",
       "      <td>2.9</td>\n",
       "      <td>4.2</td>\n",
       "      <td>1</td>\n",
       "    </tr>\n",
       "    <tr>\n",
       "      <th>82</th>\n",
       "      <td>2.7</td>\n",
       "      <td>3.9</td>\n",
       "      <td>1</td>\n",
       "    </tr>\n",
       "    <tr>\n",
       "      <th>129</th>\n",
       "      <td>3.0</td>\n",
       "      <td>5.8</td>\n",
       "      <td>2</td>\n",
       "    </tr>\n",
       "  </tbody>\n",
       "</table>\n",
       "</div>"
      ],
      "text/plain": [
       "     sepal width (cm)  petal length (cm)  Species\n",
       "82                2.7                3.9        1\n",
       "118               2.6                6.9        2\n",
       "96                2.9                4.2        1\n",
       "96                2.9                4.2        1\n",
       "141               3.1                5.1        2\n",
       "96                2.9                4.2        1\n",
       "82                2.7                3.9        1\n",
       "129               3.0                5.8        2"
      ]
     },
     "execution_count": 169,
     "metadata": {},
     "output_type": "execute_result"
    }
   ],
   "source": [
    "# Data for Tree 3\n",
    "df_bag = df_train.sample(8,replace=True)\n",
    "\n",
    "# Fetch X and y\n",
    "X = df_bag.iloc[:,0:2]\n",
    "y = df_bag.iloc[:,-1]\n",
    "\n",
    "# print df_bag\n",
    "df_bag"
   ]
  },
  {
   "cell_type": "code",
   "execution_count": 170,
   "id": "0f36857c",
   "metadata": {
    "ExecuteTime": {
     "end_time": "2022-11-22T20:57:35.904396Z",
     "start_time": "2022-11-22T20:57:35.406964Z"
    }
   },
   "outputs": [
    {
     "data": {
      "image/png": "[encoded data removed]",
      "text/plain": [
       "<Figure size 640x480 with 1 Axes>"
      ]
     },
     "metadata": {},
     "output_type": "display_data"
    },
    {
     "data": {
      "text/plain": [
       "('accuracy score:', 0.8)"
      ]
     },
     "execution_count": 170,
     "metadata": {},
     "output_type": "execute_result"
    },
    {
     "data": {
      "image/png": "[encoded data removed]",
      "text/plain": [
       "<Figure size 640x480 with 1 Axes>"
      ]
     },
     "metadata": {},
     "output_type": "display_data"
    }
   ],
   "source": [
    "dt_bag3 = DecisionTreeClassifier()\n",
    "evaluate(dt_bag3,X,y)"
   ]
  },
  {
   "cell_type": "markdown",
   "id": "a00010ee",
   "metadata": {},
   "source": [
    "Accuracy 80%"
   ]
  },
  {
   "cell_type": "markdown",
   "id": "909bf2fa",
   "metadata": {},
   "source": [
    "### Predict"
   ]
  },
  {
   "cell_type": "code",
   "execution_count": 171,
   "id": "8b59e922",
   "metadata": {
    "ExecuteTime": {
     "end_time": "2022-11-22T20:57:40.775938Z",
     "start_time": "2022-11-22T20:57:40.763917Z"
    }
   },
   "outputs": [
    {
     "data": {
      "text/html": [
       "<div>\n",
       "<style scoped>\n",
       "    .dataframe tbody tr th:only-of-type {\n",
       "        vertical-align: middle;\n",
       "    }\n",
       "\n",
       "    .dataframe tbody tr th {\n",
       "        vertical-align: top;\n",
       "    }\n",
       "\n",
       "    .dataframe thead th {\n",
       "        text-align: right;\n",
       "    }\n",
       "</style>\n",
       "<table border=\"1\" class=\"dataframe\">\n",
       "  <thead>\n",
       "    <tr style=\"text-align: right;\">\n",
       "      <th></th>\n",
       "      <th>sepal width (cm)</th>\n",
       "      <th>petal length (cm)</th>\n",
       "      <th>Species</th>\n",
       "    </tr>\n",
       "  </thead>\n",
       "  <tbody>\n",
       "    <tr>\n",
       "      <th>59</th>\n",
       "      <td>2.7</td>\n",
       "      <td>3.9</td>\n",
       "      <td>1</td>\n",
       "    </tr>\n",
       "    <tr>\n",
       "      <th>138</th>\n",
       "      <td>3.0</td>\n",
       "      <td>4.8</td>\n",
       "      <td>2</td>\n",
       "    </tr>\n",
       "    <tr>\n",
       "      <th>95</th>\n",
       "      <td>3.0</td>\n",
       "      <td>4.2</td>\n",
       "      <td>1</td>\n",
       "    </tr>\n",
       "    <tr>\n",
       "      <th>140</th>\n",
       "      <td>3.1</td>\n",
       "      <td>5.6</td>\n",
       "      <td>2</td>\n",
       "    </tr>\n",
       "    <tr>\n",
       "      <th>119</th>\n",
       "      <td>2.2</td>\n",
       "      <td>5.0</td>\n",
       "      <td>2</td>\n",
       "    </tr>\n",
       "  </tbody>\n",
       "</table>\n",
       "</div>"
      ],
      "text/plain": [
       "     sepal width (cm)  petal length (cm)  Species\n",
       "59                2.7                3.9        1\n",
       "138               3.0                4.8        2\n",
       "95                3.0                4.2        1\n",
       "140               3.1                5.6        2\n",
       "119               2.2                5.0        2"
      ]
     },
     "execution_count": 171,
     "metadata": {},
     "output_type": "execute_result"
    }
   ],
   "source": [
    "df_test"
   ]
  },
  {
   "cell_type": "code",
   "execution_count": 172,
   "id": "bcc1d115",
   "metadata": {
    "ExecuteTime": {
     "end_time": "2022-11-22T20:57:41.273848Z",
     "start_time": "2022-11-22T20:57:41.268850Z"
    }
   },
   "outputs": [
    {
     "data": {
      "text/plain": [
       "array([3.1, 4.7])"
      ]
     },
     "execution_count": 172,
     "metadata": {},
     "output_type": "execute_result"
    }
   ],
   "source": [
    "np.array([3.1,4.7])"
   ]
  },
  {
   "cell_type": "code",
   "execution_count": 173,
   "id": "dd648b19",
   "metadata": {
    "ExecuteTime": {
     "end_time": "2022-11-22T20:57:42.092917Z",
     "start_time": "2022-11-22T20:57:42.077918Z"
    },
    "scrolled": true
   },
   "outputs": [
    {
     "data": {
      "text/plain": [
       "(2,)"
      ]
     },
     "execution_count": 173,
     "metadata": {},
     "output_type": "execute_result"
    }
   ],
   "source": [
    "np.array([3.1,4.7]).shape"
   ]
  },
  {
   "cell_type": "code",
   "execution_count": 174,
   "id": "17f29274",
   "metadata": {
    "ExecuteTime": {
     "end_time": "2022-11-22T20:57:42.674754Z",
     "start_time": "2022-11-22T20:57:42.657754Z"
    }
   },
   "outputs": [
    {
     "data": {
      "text/plain": [
       "1"
      ]
     },
     "execution_count": 174,
     "metadata": {},
     "output_type": "execute_result"
    }
   ],
   "source": [
    "np.array([3.1,4.7]).ndim"
   ]
  },
  {
   "cell_type": "code",
   "execution_count": 175,
   "id": "cb796d94",
   "metadata": {
    "ExecuteTime": {
     "end_time": "2022-11-22T20:57:43.018655Z",
     "start_time": "2022-11-22T20:57:43.012620Z"
    }
   },
   "outputs": [
    {
     "data": {
      "text/plain": [
       "array([[3.1, 4.7]])"
      ]
     },
     "execution_count": 175,
     "metadata": {},
     "output_type": "execute_result"
    }
   ],
   "source": [
    "np.array([3.1,4.7]).reshape(1,2)"
   ]
  },
  {
   "cell_type": "code",
   "execution_count": 176,
   "id": "cc25921a",
   "metadata": {
    "ExecuteTime": {
     "end_time": "2022-11-22T20:57:43.375941Z",
     "start_time": "2022-11-22T20:57:43.371944Z"
    }
   },
   "outputs": [
    {
     "data": {
      "text/plain": [
       "(1, 2)"
      ]
     },
     "execution_count": 176,
     "metadata": {},
     "output_type": "execute_result"
    }
   ],
   "source": [
    "# changing shape of array for prediction\n",
    "np.array([3.1,4.7]).reshape(1,2).shape"
   ]
  },
  {
   "cell_type": "code",
   "execution_count": 177,
   "id": "ddd787ed",
   "metadata": {
    "ExecuteTime": {
     "end_time": "2022-11-22T20:57:44.126409Z",
     "start_time": "2022-11-22T20:57:44.113403Z"
    }
   },
   "outputs": [
    {
     "data": {
      "text/plain": [
       "2"
      ]
     },
     "execution_count": 177,
     "metadata": {},
     "output_type": "execute_result"
    }
   ],
   "source": [
    "# changing the dimension\n",
    "np.array([3.1,4.7]).reshape(1,2).ndim"
   ]
  },
  {
   "cell_type": "code",
   "execution_count": 178,
   "id": "b442faec",
   "metadata": {
    "ExecuteTime": {
     "end_time": "2022-11-22T20:57:45.507439Z",
     "start_time": "2022-11-22T20:57:45.489330Z"
    }
   },
   "outputs": [
    {
     "name": "stdout",
     "output_type": "stream",
     "text": [
      "Predictor 1 [1]\n",
      "Predictor 2 [1]\n",
      "Predictor 3 [2]\n"
     ]
    }
   ],
   "source": [
    "# running same row of test on all 3 models\n",
    "print(\"Predictor 1\",dt_bag1.predict(np.array([3.1,4.7]).reshape(1,2)))\n",
    "print(\"Predictor 2\",dt_bag2.predict(np.array([3.1,4.7]).reshape(1,2)))\n",
    "print(\"Predictor 3\",dt_bag3.predict(np.array([3.1,4.7]).reshape(1,2)))"
   ]
  },
  {
   "cell_type": "markdown",
   "id": "8f813872",
   "metadata": {},
   "source": [
    "#### Majority says category will be 1 and actual output is also 1."
   ]
  },
  {
   "cell_type": "markdown",
   "id": "9a176672",
   "metadata": {},
   "source": [
    "___\n",
    "___"
   ]
  },
  {
   "cell_type": "markdown",
   "id": "7b166507",
   "metadata": {},
   "source": [
    "\n",
    "## <span class=\"girk\">Types of Bagging :</span> \n",
    "### Depends on what type of data subsets we are creating\n",
    "\n",
    "- **Bagging** - we do row sampling with replacement. ie. <span class=\"pirk\">bootstrap : True</span>\n",
    "\n",
    "\n",
    "- **Pasting** - we do row sampling but without replacement\n",
    "\n",
    "\n",
    "- **Random subspaces** - We ***don't*** do row sampling, we do column sampling with and without replacement\n",
    "\n",
    "\n",
    "- **Random Patches** -  we do both row sampling and column sampling</div><i class=\"fa fa-lightbulb-o \"></i>"
   ]
  },
  {
   "cell_type": "markdown",
   "id": "d2fb06cb",
   "metadata": {},
   "source": [
    "### Pasting"
   ]
  },
  {
   "cell_type": "code",
   "execution_count": 38,
   "id": "44d9fe01",
   "metadata": {
    "scrolled": true
   },
   "outputs": [
    {
     "data": {
      "text/html": [
       "<div>\n",
       "<style scoped>\n",
       "    .dataframe tbody tr th:only-of-type {\n",
       "        vertical-align: middle;\n",
       "    }\n",
       "\n",
       "    .dataframe tbody tr th {\n",
       "        vertical-align: top;\n",
       "    }\n",
       "\n",
       "    .dataframe thead th {\n",
       "        text-align: right;\n",
       "    }\n",
       "</style>\n",
       "<table border=\"1\" class=\"dataframe\">\n",
       "  <thead>\n",
       "    <tr style=\"text-align: right;\">\n",
       "      <th></th>\n",
       "      <th>sepal width (cm)</th>\n",
       "      <th>petal length (cm)</th>\n",
       "      <th>Species</th>\n",
       "    </tr>\n",
       "  </thead>\n",
       "  <tbody>\n",
       "    <tr>\n",
       "      <th>70</th>\n",
       "      <td>3.2</td>\n",
       "      <td>4.8</td>\n",
       "      <td>1</td>\n",
       "    </tr>\n",
       "    <tr>\n",
       "      <th>102</th>\n",
       "      <td>3.0</td>\n",
       "      <td>5.9</td>\n",
       "      <td>2</td>\n",
       "    </tr>\n",
       "    <tr>\n",
       "      <th>120</th>\n",
       "      <td>3.2</td>\n",
       "      <td>5.7</td>\n",
       "      <td>2</td>\n",
       "    </tr>\n",
       "    <tr>\n",
       "      <th>92</th>\n",
       "      <td>2.6</td>\n",
       "      <td>4.0</td>\n",
       "      <td>1</td>\n",
       "    </tr>\n",
       "    <tr>\n",
       "      <th>67</th>\n",
       "      <td>2.7</td>\n",
       "      <td>4.1</td>\n",
       "      <td>1</td>\n",
       "    </tr>\n",
       "    <tr>\n",
       "      <th>87</th>\n",
       "      <td>2.3</td>\n",
       "      <td>4.4</td>\n",
       "      <td>1</td>\n",
       "    </tr>\n",
       "    <tr>\n",
       "      <th>103</th>\n",
       "      <td>2.9</td>\n",
       "      <td>5.6</td>\n",
       "      <td>2</td>\n",
       "    </tr>\n",
       "    <tr>\n",
       "      <th>75</th>\n",
       "      <td>3.0</td>\n",
       "      <td>4.4</td>\n",
       "      <td>1</td>\n",
       "    </tr>\n",
       "    <tr>\n",
       "      <th>138</th>\n",
       "      <td>3.0</td>\n",
       "      <td>4.8</td>\n",
       "      <td>2</td>\n",
       "    </tr>\n",
       "    <tr>\n",
       "      <th>149</th>\n",
       "      <td>3.0</td>\n",
       "      <td>5.1</td>\n",
       "      <td>2</td>\n",
       "    </tr>\n",
       "  </tbody>\n",
       "</table>\n",
       "</div>"
      ],
      "text/plain": [
       "     sepal width (cm)  petal length (cm)  Species\n",
       "70                3.2                4.8        1\n",
       "102               3.0                5.9        2\n",
       "120               3.2                5.7        2\n",
       "92                2.6                4.0        1\n",
       "67                2.7                4.1        1\n",
       "87                2.3                4.4        1\n",
       "103               2.9                5.6        2\n",
       "75                3.0                4.4        1\n",
       "138               3.0                4.8        2\n",
       "149               3.0                5.1        2"
      ]
     },
     "execution_count": 38,
     "metadata": {},
     "output_type": "execute_result"
    }
   ],
   "source": [
    "# Row sampling without replacement\n",
    "df_train"
   ]
  },
  {
   "cell_type": "code",
   "execution_count": 39,
   "id": "2ed44ed7",
   "metadata": {},
   "outputs": [
    {
     "data": {
      "text/html": [
       "<div>\n",
       "<style scoped>\n",
       "    .dataframe tbody tr th:only-of-type {\n",
       "        vertical-align: middle;\n",
       "    }\n",
       "\n",
       "    .dataframe tbody tr th {\n",
       "        vertical-align: top;\n",
       "    }\n",
       "\n",
       "    .dataframe thead th {\n",
       "        text-align: right;\n",
       "    }\n",
       "</style>\n",
       "<table border=\"1\" class=\"dataframe\">\n",
       "  <thead>\n",
       "    <tr style=\"text-align: right;\">\n",
       "      <th></th>\n",
       "      <th>sepal width (cm)</th>\n",
       "      <th>petal length (cm)</th>\n",
       "      <th>Species</th>\n",
       "    </tr>\n",
       "  </thead>\n",
       "  <tbody>\n",
       "    <tr>\n",
       "      <th>103</th>\n",
       "      <td>2.9</td>\n",
       "      <td>5.6</td>\n",
       "      <td>2</td>\n",
       "    </tr>\n",
       "    <tr>\n",
       "      <th>67</th>\n",
       "      <td>2.7</td>\n",
       "      <td>4.1</td>\n",
       "      <td>1</td>\n",
       "    </tr>\n",
       "    <tr>\n",
       "      <th>120</th>\n",
       "      <td>3.2</td>\n",
       "      <td>5.7</td>\n",
       "      <td>2</td>\n",
       "    </tr>\n",
       "    <tr>\n",
       "      <th>87</th>\n",
       "      <td>2.3</td>\n",
       "      <td>4.4</td>\n",
       "      <td>1</td>\n",
       "    </tr>\n",
       "    <tr>\n",
       "      <th>70</th>\n",
       "      <td>3.2</td>\n",
       "      <td>4.8</td>\n",
       "      <td>1</td>\n",
       "    </tr>\n",
       "    <tr>\n",
       "      <th>149</th>\n",
       "      <td>3.0</td>\n",
       "      <td>5.1</td>\n",
       "      <td>2</td>\n",
       "    </tr>\n",
       "    <tr>\n",
       "      <th>75</th>\n",
       "      <td>3.0</td>\n",
       "      <td>4.4</td>\n",
       "      <td>1</td>\n",
       "    </tr>\n",
       "    <tr>\n",
       "      <th>102</th>\n",
       "      <td>3.0</td>\n",
       "      <td>5.9</td>\n",
       "      <td>2</td>\n",
       "    </tr>\n",
       "  </tbody>\n",
       "</table>\n",
       "</div>"
      ],
      "text/plain": [
       "     sepal width (cm)  petal length (cm)  Species\n",
       "103               2.9                5.6        2\n",
       "67                2.7                4.1        1\n",
       "120               3.2                5.7        2\n",
       "87                2.3                4.4        1\n",
       "70                3.2                4.8        1\n",
       "149               3.0                5.1        2\n",
       "75                3.0                4.4        1\n",
       "102               3.0                5.9        2"
      ]
     },
     "execution_count": 39,
     "metadata": {},
     "output_type": "execute_result"
    }
   ],
   "source": [
    "df_train.sample(8) \n",
    "\n",
    "# no rows will be repeating as replace = False as default"
   ]
  },
  {
   "cell_type": "markdown",
   "id": "c3ff80cb",
   "metadata": {},
   "source": [
    "### Bagging  vs  Pasting \n",
    "\n",
    "In Bagging we do row sampling with replacement but in Pasting we do row sampling without replacement."
   ]
  },
  {
   "cell_type": "markdown",
   "id": "18be0311",
   "metadata": {},
   "source": [
    "### Random Subspaces\n",
    "\n",
    "<span class=\"mark\">We don't do row sampling, we do column sampling</span>\n",
    "\n",
    "With and without replacement both works"
   ]
  },
  {
   "cell_type": "code",
   "execution_count": 40,
   "id": "bb5fea0b",
   "metadata": {},
   "outputs": [
    {
     "data": {
      "text/html": [
       "<div>\n",
       "<style scoped>\n",
       "    .dataframe tbody tr th:only-of-type {\n",
       "        vertical-align: middle;\n",
       "    }\n",
       "\n",
       "    .dataframe tbody tr th {\n",
       "        vertical-align: top;\n",
       "    }\n",
       "\n",
       "    .dataframe thead th {\n",
       "        text-align: right;\n",
       "    }\n",
       "</style>\n",
       "<table border=\"1\" class=\"dataframe\">\n",
       "  <thead>\n",
       "    <tr style=\"text-align: right;\">\n",
       "      <th></th>\n",
       "      <th>sepal length (cm)</th>\n",
       "      <th>sepal width (cm)</th>\n",
       "      <th>petal length (cm)</th>\n",
       "      <th>petal width (cm)</th>\n",
       "      <th>Species</th>\n",
       "    </tr>\n",
       "  </thead>\n",
       "  <tbody>\n",
       "    <tr>\n",
       "      <th>0</th>\n",
       "      <td>5.1</td>\n",
       "      <td>3.5</td>\n",
       "      <td>1.4</td>\n",
       "      <td>0.2</td>\n",
       "      <td>0</td>\n",
       "    </tr>\n",
       "    <tr>\n",
       "      <th>1</th>\n",
       "      <td>4.9</td>\n",
       "      <td>3.0</td>\n",
       "      <td>1.4</td>\n",
       "      <td>0.2</td>\n",
       "      <td>0</td>\n",
       "    </tr>\n",
       "    <tr>\n",
       "      <th>2</th>\n",
       "      <td>4.7</td>\n",
       "      <td>3.2</td>\n",
       "      <td>1.3</td>\n",
       "      <td>0.2</td>\n",
       "      <td>0</td>\n",
       "    </tr>\n",
       "    <tr>\n",
       "      <th>3</th>\n",
       "      <td>4.6</td>\n",
       "      <td>3.1</td>\n",
       "      <td>1.5</td>\n",
       "      <td>0.2</td>\n",
       "      <td>0</td>\n",
       "    </tr>\n",
       "    <tr>\n",
       "      <th>4</th>\n",
       "      <td>5.0</td>\n",
       "      <td>3.6</td>\n",
       "      <td>1.4</td>\n",
       "      <td>0.2</td>\n",
       "      <td>0</td>\n",
       "    </tr>\n",
       "    <tr>\n",
       "      <th>...</th>\n",
       "      <td>...</td>\n",
       "      <td>...</td>\n",
       "      <td>...</td>\n",
       "      <td>...</td>\n",
       "      <td>...</td>\n",
       "    </tr>\n",
       "    <tr>\n",
       "      <th>145</th>\n",
       "      <td>6.7</td>\n",
       "      <td>3.0</td>\n",
       "      <td>5.2</td>\n",
       "      <td>2.3</td>\n",
       "      <td>2</td>\n",
       "    </tr>\n",
       "    <tr>\n",
       "      <th>146</th>\n",
       "      <td>6.3</td>\n",
       "      <td>2.5</td>\n",
       "      <td>5.0</td>\n",
       "      <td>1.9</td>\n",
       "      <td>2</td>\n",
       "    </tr>\n",
       "    <tr>\n",
       "      <th>147</th>\n",
       "      <td>6.5</td>\n",
       "      <td>3.0</td>\n",
       "      <td>5.2</td>\n",
       "      <td>2.0</td>\n",
       "      <td>2</td>\n",
       "    </tr>\n",
       "    <tr>\n",
       "      <th>148</th>\n",
       "      <td>6.2</td>\n",
       "      <td>3.4</td>\n",
       "      <td>5.4</td>\n",
       "      <td>2.3</td>\n",
       "      <td>2</td>\n",
       "    </tr>\n",
       "    <tr>\n",
       "      <th>149</th>\n",
       "      <td>5.9</td>\n",
       "      <td>3.0</td>\n",
       "      <td>5.1</td>\n",
       "      <td>1.8</td>\n",
       "      <td>2</td>\n",
       "    </tr>\n",
       "  </tbody>\n",
       "</table>\n",
       "<p>150 rows × 5 columns</p>\n",
       "</div>"
      ],
      "text/plain": [
       "     sepal length (cm)  sepal width (cm)  petal length (cm)  petal width (cm)  \\\n",
       "0                  5.1               3.5                1.4               0.2   \n",
       "1                  4.9               3.0                1.4               0.2   \n",
       "2                  4.7               3.2                1.3               0.2   \n",
       "3                  4.6               3.1                1.5               0.2   \n",
       "4                  5.0               3.6                1.4               0.2   \n",
       "..                 ...               ...                ...               ...   \n",
       "145                6.7               3.0                5.2               2.3   \n",
       "146                6.3               2.5                5.0               1.9   \n",
       "147                6.5               3.0                5.2               2.0   \n",
       "148                6.2               3.4                5.4               2.3   \n",
       "149                5.9               3.0                5.1               1.8   \n",
       "\n",
       "     Species  \n",
       "0          0  \n",
       "1          0  \n",
       "2          0  \n",
       "3          0  \n",
       "4          0  \n",
       "..       ...  \n",
       "145        2  \n",
       "146        2  \n",
       "147        2  \n",
       "148        2  \n",
       "149        2  \n",
       "\n",
       "[150 rows x 5 columns]"
      ]
     },
     "execution_count": 40,
     "metadata": {},
     "output_type": "execute_result"
    }
   ],
   "source": [
    "df = pd.read_csv(r'iris.csv').iloc[:,1:]\n",
    "df"
   ]
  },
  {
   "cell_type": "code",
   "execution_count": 41,
   "id": "36dcebef",
   "metadata": {},
   "outputs": [
    {
     "data": {
      "text/html": [
       "<div>\n",
       "<style scoped>\n",
       "    .dataframe tbody tr th:only-of-type {\n",
       "        vertical-align: middle;\n",
       "    }\n",
       "\n",
       "    .dataframe tbody tr th {\n",
       "        vertical-align: top;\n",
       "    }\n",
       "\n",
       "    .dataframe thead th {\n",
       "        text-align: right;\n",
       "    }\n",
       "</style>\n",
       "<table border=\"1\" class=\"dataframe\">\n",
       "  <thead>\n",
       "    <tr style=\"text-align: right;\">\n",
       "      <th></th>\n",
       "      <th>Species</th>\n",
       "      <th>petal width (cm)</th>\n",
       "    </tr>\n",
       "  </thead>\n",
       "  <tbody>\n",
       "    <tr>\n",
       "      <th>0</th>\n",
       "      <td>0</td>\n",
       "      <td>0.2</td>\n",
       "    </tr>\n",
       "    <tr>\n",
       "      <th>1</th>\n",
       "      <td>0</td>\n",
       "      <td>0.2</td>\n",
       "    </tr>\n",
       "    <tr>\n",
       "      <th>2</th>\n",
       "      <td>0</td>\n",
       "      <td>0.2</td>\n",
       "    </tr>\n",
       "    <tr>\n",
       "      <th>3</th>\n",
       "      <td>0</td>\n",
       "      <td>0.2</td>\n",
       "    </tr>\n",
       "    <tr>\n",
       "      <th>4</th>\n",
       "      <td>0</td>\n",
       "      <td>0.2</td>\n",
       "    </tr>\n",
       "    <tr>\n",
       "      <th>...</th>\n",
       "      <td>...</td>\n",
       "      <td>...</td>\n",
       "    </tr>\n",
       "    <tr>\n",
       "      <th>145</th>\n",
       "      <td>2</td>\n",
       "      <td>2.3</td>\n",
       "    </tr>\n",
       "    <tr>\n",
       "      <th>146</th>\n",
       "      <td>2</td>\n",
       "      <td>1.9</td>\n",
       "    </tr>\n",
       "    <tr>\n",
       "      <th>147</th>\n",
       "      <td>2</td>\n",
       "      <td>2.0</td>\n",
       "    </tr>\n",
       "    <tr>\n",
       "      <th>148</th>\n",
       "      <td>2</td>\n",
       "      <td>2.3</td>\n",
       "    </tr>\n",
       "    <tr>\n",
       "      <th>149</th>\n",
       "      <td>2</td>\n",
       "      <td>1.8</td>\n",
       "    </tr>\n",
       "  </tbody>\n",
       "</table>\n",
       "<p>150 rows × 2 columns</p>\n",
       "</div>"
      ],
      "text/plain": [
       "     Species  petal width (cm)\n",
       "0          0               0.2\n",
       "1          0               0.2\n",
       "2          0               0.2\n",
       "3          0               0.2\n",
       "4          0               0.2\n",
       "..       ...               ...\n",
       "145        2               2.3\n",
       "146        2               1.9\n",
       "147        2               2.0\n",
       "148        2               2.3\n",
       "149        2               1.8\n",
       "\n",
       "[150 rows x 2 columns]"
      ]
     },
     "execution_count": 41,
     "metadata": {},
     "output_type": "execute_result"
    }
   ],
   "source": [
    "df1 = df.sample(2,replace=True,axis=1) # randomly selecting 2 columns\n",
    "df1 \n",
    "\n",
    "# each time we do it, we get at random different columns\n",
    "# as replace is True, we can get 2 same columns"
   ]
  },
  {
   "cell_type": "markdown",
   "id": "7bf57362",
   "metadata": {},
   "source": [
    "### Random Patches\n",
    "\n",
    "we do both row sampling and column sampling"
   ]
  },
  {
   "cell_type": "code",
   "execution_count": 42,
   "id": "2f7ad328",
   "metadata": {},
   "outputs": [
    {
     "data": {
      "text/html": [
       "<div>\n",
       "<style scoped>\n",
       "    .dataframe tbody tr th:only-of-type {\n",
       "        vertical-align: middle;\n",
       "    }\n",
       "\n",
       "    .dataframe tbody tr th {\n",
       "        vertical-align: top;\n",
       "    }\n",
       "\n",
       "    .dataframe thead th {\n",
       "        text-align: right;\n",
       "    }\n",
       "</style>\n",
       "<table border=\"1\" class=\"dataframe\">\n",
       "  <thead>\n",
       "    <tr style=\"text-align: right;\">\n",
       "      <th></th>\n",
       "      <th>sepal length (cm)</th>\n",
       "      <th>sepal width (cm)</th>\n",
       "      <th>petal length (cm)</th>\n",
       "      <th>petal width (cm)</th>\n",
       "      <th>Species</th>\n",
       "    </tr>\n",
       "  </thead>\n",
       "  <tbody>\n",
       "    <tr>\n",
       "      <th>0</th>\n",
       "      <td>5.1</td>\n",
       "      <td>3.5</td>\n",
       "      <td>1.4</td>\n",
       "      <td>0.2</td>\n",
       "      <td>0</td>\n",
       "    </tr>\n",
       "    <tr>\n",
       "      <th>1</th>\n",
       "      <td>4.9</td>\n",
       "      <td>3.0</td>\n",
       "      <td>1.4</td>\n",
       "      <td>0.2</td>\n",
       "      <td>0</td>\n",
       "    </tr>\n",
       "    <tr>\n",
       "      <th>2</th>\n",
       "      <td>4.7</td>\n",
       "      <td>3.2</td>\n",
       "      <td>1.3</td>\n",
       "      <td>0.2</td>\n",
       "      <td>0</td>\n",
       "    </tr>\n",
       "    <tr>\n",
       "      <th>3</th>\n",
       "      <td>4.6</td>\n",
       "      <td>3.1</td>\n",
       "      <td>1.5</td>\n",
       "      <td>0.2</td>\n",
       "      <td>0</td>\n",
       "    </tr>\n",
       "    <tr>\n",
       "      <th>4</th>\n",
       "      <td>5.0</td>\n",
       "      <td>3.6</td>\n",
       "      <td>1.4</td>\n",
       "      <td>0.2</td>\n",
       "      <td>0</td>\n",
       "    </tr>\n",
       "  </tbody>\n",
       "</table>\n",
       "</div>"
      ],
      "text/plain": [
       "   sepal length (cm)  sepal width (cm)  petal length (cm)  petal width (cm)  \\\n",
       "0                5.1               3.5                1.4               0.2   \n",
       "1                4.9               3.0                1.4               0.2   \n",
       "2                4.7               3.2                1.3               0.2   \n",
       "3                4.6               3.1                1.5               0.2   \n",
       "4                5.0               3.6                1.4               0.2   \n",
       "\n",
       "   Species  \n",
       "0        0  \n",
       "1        0  \n",
       "2        0  \n",
       "3        0  \n",
       "4        0  "
      ]
     },
     "execution_count": 42,
     "metadata": {},
     "output_type": "execute_result"
    }
   ],
   "source": [
    "df.head()"
   ]
  },
  {
   "cell_type": "code",
   "execution_count": 43,
   "id": "5aaada2f",
   "metadata": {},
   "outputs": [
    {
     "data": {
      "text/html": [
       "<div>\n",
       "<style scoped>\n",
       "    .dataframe tbody tr th:only-of-type {\n",
       "        vertical-align: middle;\n",
       "    }\n",
       "\n",
       "    .dataframe tbody tr th {\n",
       "        vertical-align: top;\n",
       "    }\n",
       "\n",
       "    .dataframe thead th {\n",
       "        text-align: right;\n",
       "    }\n",
       "</style>\n",
       "<table border=\"1\" class=\"dataframe\">\n",
       "  <thead>\n",
       "    <tr style=\"text-align: right;\">\n",
       "      <th></th>\n",
       "      <th>sepal width (cm)</th>\n",
       "      <th>Species</th>\n",
       "    </tr>\n",
       "  </thead>\n",
       "  <tbody>\n",
       "    <tr>\n",
       "      <th>107</th>\n",
       "      <td>2.9</td>\n",
       "      <td>2</td>\n",
       "    </tr>\n",
       "    <tr>\n",
       "      <th>98</th>\n",
       "      <td>2.5</td>\n",
       "      <td>1</td>\n",
       "    </tr>\n",
       "    <tr>\n",
       "      <th>8</th>\n",
       "      <td>2.9</td>\n",
       "      <td>0</td>\n",
       "    </tr>\n",
       "    <tr>\n",
       "      <th>47</th>\n",
       "      <td>3.2</td>\n",
       "      <td>0</td>\n",
       "    </tr>\n",
       "    <tr>\n",
       "      <th>117</th>\n",
       "      <td>3.8</td>\n",
       "      <td>2</td>\n",
       "    </tr>\n",
       "    <tr>\n",
       "      <th>65</th>\n",
       "      <td>3.1</td>\n",
       "      <td>1</td>\n",
       "    </tr>\n",
       "    <tr>\n",
       "      <th>13</th>\n",
       "      <td>3.0</td>\n",
       "      <td>0</td>\n",
       "    </tr>\n",
       "    <tr>\n",
       "      <th>132</th>\n",
       "      <td>2.8</td>\n",
       "      <td>2</td>\n",
       "    </tr>\n",
       "  </tbody>\n",
       "</table>\n",
       "</div>"
      ],
      "text/plain": [
       "     sepal width (cm)  Species\n",
       "107               2.9        2\n",
       "98                2.5        1\n",
       "8                 2.9        0\n",
       "47                3.2        0\n",
       "117               3.8        2\n",
       "65                3.1        1\n",
       "13                3.0        0\n",
       "132               2.8        2"
      ]
     },
     "execution_count": 43,
     "metadata": {},
     "output_type": "execute_result"
    }
   ],
   "source": [
    "df1 = df.sample(8,replace=True).sample(2,replace=True,axis=1)\n",
    "df1"
   ]
  },
  {
   "cell_type": "markdown",
   "id": "01e6977d",
   "metadata": {},
   "source": [
    "___"
   ]
  },
  {
   "cell_type": "markdown",
   "id": "d84a4114",
   "metadata": {},
   "source": [
    "# Bagging Classifiers - Models"
   ]
  },
  {
   "cell_type": "code",
   "execution_count": 181,
   "id": "bc3518c3",
   "metadata": {
    "ExecuteTime": {
     "end_time": "2022-11-22T21:06:17.699823Z",
     "start_time": "2022-11-22T21:06:17.682296Z"
    }
   },
   "outputs": [],
   "source": [
    "from sklearn.datasets import make_classification\n",
    "from sklearn.metrics import accuracy_score\n",
    "from sklearn.ensemble import BaggingClassifier\n",
    "from sklearn.tree import DecisionTreeClassifier\n",
    "from sklearn.svm import SVC\n",
    "from sklearn.model_selection import train_test_split"
   ]
  },
  {
   "cell_type": "code",
   "execution_count": 182,
   "id": "3cfe659c",
   "metadata": {
    "ExecuteTime": {
     "end_time": "2022-11-22T21:06:21.228134Z",
     "start_time": "2022-11-22T21:06:21.218888Z"
    }
   },
   "outputs": [],
   "source": [
    "X,y = make_classification(n_samples=10000, n_features=10, n_informative=3) # columns = 10, "
   ]
  },
  {
   "cell_type": "code",
   "execution_count": 188,
   "id": "b801118c",
   "metadata": {
    "ExecuteTime": {
     "end_time": "2022-11-22T21:07:28.902941Z",
     "start_time": "2022-11-22T21:07:28.883964Z"
    }
   },
   "outputs": [
    {
     "data": {
      "text/plain": [
       "array([[ 0.11130938,  0.29966618,  1.4737139 , ...,  0.28928235,\n",
       "         0.92975707,  1.20448779],\n",
       "       [-2.22907156,  1.81163511,  1.13527798, ..., -1.69643175,\n",
       "        -2.11657606,  0.35522016],\n",
       "       [ 3.5307953 , -3.49071879,  1.03316939, ...,  0.13834492,\n",
       "        -0.55311674,  2.91654467],\n",
       "       ...,\n",
       "       [ 1.02635558, -0.46251774, -2.30966591, ...,  2.34525325,\n",
       "        -0.62624394, -2.34084308],\n",
       "       [-1.15916428,  0.03633011, -0.7076505 , ..., -2.3087603 ,\n",
       "         0.09474864, -0.33054345],\n",
       "       [ 0.06262689, -0.17343104,  0.97711714, ..., -0.64522582,\n",
       "        -1.03960467,  1.1402583 ]])"
      ]
     },
     "execution_count": 188,
     "metadata": {},
     "output_type": "execute_result"
    }
   ],
   "source": [
    "X"
   ]
  },
  {
   "cell_type": "code",
   "execution_count": 189,
   "id": "dfd29a06",
   "metadata": {
    "ExecuteTime": {
     "end_time": "2022-11-22T21:07:36.293144Z",
     "start_time": "2022-11-22T21:07:36.278834Z"
    }
   },
   "outputs": [],
   "source": [
    "X_train, X_test, y_train, y_test = train_test_split(X,y,test_size=0.25,random_state=42)\n",
    "\n",
    "# train dataset will have 7500 rows"
   ]
  },
  {
   "cell_type": "code",
   "execution_count": 190,
   "id": "531eaf78",
   "metadata": {
    "ExecuteTime": {
     "end_time": "2022-11-22T21:07:36.650751Z",
     "start_time": "2022-11-22T21:07:36.631478Z"
    }
   },
   "outputs": [
    {
     "data": {
      "text/plain": [
       "(7500, 10)"
      ]
     },
     "execution_count": 190,
     "metadata": {},
     "output_type": "execute_result"
    }
   ],
   "source": [
    "X_train.shape"
   ]
  },
  {
   "cell_type": "code",
   "execution_count": 186,
   "id": "4ed48c97",
   "metadata": {
    "ExecuteTime": {
     "end_time": "2022-11-22T21:06:54.113260Z",
     "start_time": "2022-11-22T21:06:54.107679Z"
    }
   },
   "outputs": [
    {
     "data": {
      "text/plain": [
       "array([[-0.46266787,  1.74051136,  1.04275671, ...,  2.28154245,\n",
       "        -1.60680164, -0.3325879 ],\n",
       "       [-0.60842005,  0.37750544,  0.91274491, ..., -0.97242604,\n",
       "         0.68496447,  0.82390218],\n",
       "       [-0.53376699,  0.43477872,  2.08825977, ..., -1.1706216 ,\n",
       "        -1.21118998,  1.95476734],\n",
       "       ...,\n",
       "       [-1.06936031, -0.66075285,  0.38347903, ..., -4.08054609,\n",
       "        -0.29290683,  1.39194035],\n",
       "       [-0.1047608 ,  1.01320487,  1.30693351, ...,  1.41422327,\n",
       "        -0.50884385,  0.4659651 ],\n",
       "       [-0.48773552,  1.27906111,  0.08420384, ...,  1.62209607,\n",
       "        -0.03454099, -0.89189902]])"
      ]
     },
     "execution_count": 186,
     "metadata": {},
     "output_type": "execute_result"
    }
   ],
   "source": [
    "X_train"
   ]
  },
  {
   "cell_type": "markdown",
   "id": "ed312081",
   "metadata": {},
   "source": [
    "###### single Decision Tree"
   ]
  },
  {
   "cell_type": "code",
   "execution_count": 192,
   "id": "e4179af2",
   "metadata": {
    "ExecuteTime": {
     "end_time": "2022-11-22T21:08:23.933088Z",
     "start_time": "2022-11-22T21:08:23.838185Z"
    }
   },
   "outputs": [
    {
     "name": "stdout",
     "output_type": "stream",
     "text": [
      "Accuracy of single Decision Tree is 88.96 %\n"
     ]
    }
   ],
   "source": [
    "dt = DecisionTreeClassifier(random_state=42)\n",
    "dt.fit(X_train,y_train)\n",
    "y_pred = dt.predict(X_test)\n",
    "accuracy_singledcisiontree = accuracy_score(y_test,y_pred)\n",
    "\n",
    "print(\"Accuracy of single Decision Tree is\",(accuracy_score(y_test,y_pred))*100,\"%\")"
   ]
  },
  {
   "cell_type": "markdown",
   "id": "52cc7b6b",
   "metadata": {},
   "source": [
    "## Bagging for Multiple Decision Tree"
   ]
  },
  {
   "cell_type": "code",
   "execution_count": 193,
   "id": "c912c161",
   "metadata": {
    "ExecuteTime": {
     "end_time": "2022-11-22T21:08:39.904087Z",
     "start_time": "2022-11-22T21:08:39.892564Z"
    }
   },
   "outputs": [],
   "source": [
    "bag = BaggingClassifier(\n",
    "    base_estimator = DecisionTreeClassifier(), # type of base model\n",
    "    n_estimators=500, # total number of base models\n",
    "    max_samples=0.25, # giving 2000 rows to each model in bagging\n",
    "    bootstrap=True, # sampling With replacement\n",
    "    random_state=42\n",
    ")"
   ]
  },
  {
   "cell_type": "code",
   "execution_count": 194,
   "id": "bb7eb78f",
   "metadata": {
    "ExecuteTime": {
     "end_time": "2022-11-22T21:09:19.633597Z",
     "start_time": "2022-11-22T21:09:06.523158Z"
    }
   },
   "outputs": [
    {
     "data": {
      "text/plain": [
       "BaggingClassifier(base_estimator=DecisionTreeClassifier(), max_samples=0.25,\n",
       "                  n_estimators=500, random_state=42)"
      ]
     },
     "execution_count": 194,
     "metadata": {},
     "output_type": "execute_result"
    }
   ],
   "source": [
    "bag.fit(X_train,y_train)"
   ]
  },
  {
   "cell_type": "code",
   "execution_count": 195,
   "id": "6e83a8ab",
   "metadata": {
    "ExecuteTime": {
     "end_time": "2022-11-22T21:09:26.660007Z",
     "start_time": "2022-11-22T21:09:26.650069Z"
    }
   },
   "outputs": [
    {
     "data": {
      "text/plain": [
       "{'base_estimator__ccp_alpha': 0.0,\n",
       " 'base_estimator__class_weight': None,\n",
       " 'base_estimator__criterion': 'gini',\n",
       " 'base_estimator__max_depth': None,\n",
       " 'base_estimator__max_features': None,\n",
       " 'base_estimator__max_leaf_nodes': None,\n",
       " 'base_estimator__min_impurity_decrease': 0.0,\n",
       " 'base_estimator__min_samples_leaf': 1,\n",
       " 'base_estimator__min_samples_split': 2,\n",
       " 'base_estimator__min_weight_fraction_leaf': 0.0,\n",
       " 'base_estimator__random_state': None,\n",
       " 'base_estimator__splitter': 'best',\n",
       " 'base_estimator': DecisionTreeClassifier(),\n",
       " 'bootstrap': True,\n",
       " 'bootstrap_features': False,\n",
       " 'max_features': 1.0,\n",
       " 'max_samples': 0.25,\n",
       " 'n_estimators': 500,\n",
       " 'n_jobs': None,\n",
       " 'oob_score': False,\n",
       " 'random_state': 42,\n",
       " 'verbose': 0,\n",
       " 'warm_start': False}"
      ]
     },
     "execution_count": 195,
     "metadata": {},
     "output_type": "execute_result"
    }
   ],
   "source": [
    "bag.get_params()"
   ]
  },
  {
   "cell_type": "code",
   "execution_count": 196,
   "id": "6ff42a3e",
   "metadata": {
    "ExecuteTime": {
     "end_time": "2022-11-22T21:09:27.594143Z",
     "start_time": "2022-11-22T21:09:27.285156Z"
    }
   },
   "outputs": [
    {
     "name": "stdout",
     "output_type": "stream",
     "text": [
      "Bagging using Decision Tree is 0.916\n"
     ]
    }
   ],
   "source": [
    "y_pred = bag.predict(X_test)\n",
    "accuracy_baggingDecisionTree = accuracy_score(y_test,y_pred)\n",
    "print(\"Bagging using Decision Tree is\", accuracy_score(y_test,y_pred))"
   ]
  },
  {
   "cell_type": "code",
   "execution_count": 197,
   "id": "678d2717",
   "metadata": {
    "ExecuteTime": {
     "end_time": "2022-11-22T21:09:28.718798Z",
     "start_time": "2022-11-22T21:09:28.636029Z"
    }
   },
   "outputs": [
    {
     "data": {
      "text/plain": [
       "(1875,)"
      ]
     },
     "execution_count": 197,
     "metadata": {},
     "output_type": "execute_result"
    }
   ],
   "source": [
    "bag.estimators_samples_[0].shape # base model got 1875 rows"
   ]
  },
  {
   "cell_type": "code",
   "execution_count": 198,
   "id": "1b737821",
   "metadata": {
    "ExecuteTime": {
     "end_time": "2022-11-22T21:09:30.528069Z",
     "start_time": "2022-11-22T21:09:30.516335Z"
    }
   },
   "outputs": [
    {
     "data": {
      "text/plain": [
       "(10,)"
      ]
     },
     "execution_count": 198,
     "metadata": {},
     "output_type": "execute_result"
    }
   ],
   "source": [
    "bag.estimators_features_[0].shape # base model got all 10 columns as we are not doing column sampling"
   ]
  },
  {
   "cell_type": "markdown",
   "id": "a37041c8",
   "metadata": {},
   "source": [
    "#### Bagging using multiple SVM"
   ]
  },
  {
   "cell_type": "code",
   "execution_count": 216,
   "id": "149ba24a",
   "metadata": {
    "ExecuteTime": {
     "end_time": "2022-11-22T21:19:15.844814Z",
     "start_time": "2022-11-22T21:19:15.833046Z"
    }
   },
   "outputs": [],
   "source": [
    "bag = BaggingClassifier(\n",
    "    base_estimator=SVC(),\n",
    "    n_estimators=100,\n",
    "    max_samples=0.25,\n",
    "    bootstrap=True,\n",
    "    random_state=42,\n",
    "    n_jobs=-1\n",
    ")"
   ]
  },
  {
   "cell_type": "code",
   "execution_count": 217,
   "id": "519ec208",
   "metadata": {
    "ExecuteTime": {
     "end_time": "2022-11-22T21:19:26.317230Z",
     "start_time": "2022-11-22T21:19:16.745878Z"
    }
   },
   "outputs": [
    {
     "name": "stdout",
     "output_type": "stream",
     "text": [
      "Accuracy of Bagging using SVM is 91.08 %\n"
     ]
    }
   ],
   "source": [
    "bag.fit(X_train,y_train)\n",
    "y_pred = bag.predict(X_test)\n",
    "accuracy_baggingSVM = accuracy_score(y_test,y_pred)\n",
    "print(\"Accuracy of Bagging using SVM is\", \"%.2f\"%(accuracy_baggingSVM*100),\"%\")"
   ]
  },
  {
   "cell_type": "code",
   "execution_count": 218,
   "id": "c0362590",
   "metadata": {
    "ExecuteTime": {
     "end_time": "2022-11-22T21:19:28.843790Z",
     "start_time": "2022-11-22T21:19:28.837761Z"
    }
   },
   "outputs": [
    {
     "data": {
      "text/plain": [
       "{'base_estimator__C': 1.0,\n",
       " 'base_estimator__break_ties': False,\n",
       " 'base_estimator__cache_size': 200,\n",
       " 'base_estimator__class_weight': None,\n",
       " 'base_estimator__coef0': 0.0,\n",
       " 'base_estimator__decision_function_shape': 'ovr',\n",
       " 'base_estimator__degree': 3,\n",
       " 'base_estimator__gamma': 'scale',\n",
       " 'base_estimator__kernel': 'rbf',\n",
       " 'base_estimator__max_iter': -1,\n",
       " 'base_estimator__probability': False,\n",
       " 'base_estimator__random_state': None,\n",
       " 'base_estimator__shrinking': True,\n",
       " 'base_estimator__tol': 0.001,\n",
       " 'base_estimator__verbose': False,\n",
       " 'base_estimator': SVC(),\n",
       " 'bootstrap': True,\n",
       " 'bootstrap_features': False,\n",
       " 'max_features': 1.0,\n",
       " 'max_samples': 0.25,\n",
       " 'n_estimators': 100,\n",
       " 'n_jobs': -1,\n",
       " 'oob_score': False,\n",
       " 'random_state': 42,\n",
       " 'verbose': 0,\n",
       " 'warm_start': False}"
      ]
     },
     "execution_count": 218,
     "metadata": {},
     "output_type": "execute_result"
    }
   ],
   "source": [
    "bag.get_params()"
   ]
  },
  {
   "cell_type": "code",
   "execution_count": 219,
   "id": "1ad41144",
   "metadata": {
    "ExecuteTime": {
     "end_time": "2022-11-22T21:19:32.256177Z",
     "start_time": "2022-11-22T21:19:32.227353Z"
    }
   },
   "outputs": [
    {
     "data": {
      "text/plain": [
       "(1875,)"
      ]
     },
     "execution_count": 219,
     "metadata": {},
     "output_type": "execute_result"
    }
   ],
   "source": [
    "bag.estimators_samples_[0].shape # base model got 2000 rows"
   ]
  },
  {
   "cell_type": "code",
   "execution_count": 220,
   "id": "b16f46aa",
   "metadata": {
    "ExecuteTime": {
     "end_time": "2022-11-22T21:19:33.051917Z",
     "start_time": "2022-11-22T21:19:33.035390Z"
    }
   },
   "outputs": [
    {
     "data": {
      "text/plain": [
       "(10,)"
      ]
     },
     "execution_count": 220,
     "metadata": {},
     "output_type": "execute_result"
    }
   ],
   "source": [
    "bag.estimators_features_[0].shape # base model got all 10 columns as we are not doing column sampling"
   ]
  },
  {
   "cell_type": "markdown",
   "id": "97bac5f9",
   "metadata": {},
   "source": [
    "## Pasting for multiple Decision tree"
   ]
  },
  {
   "cell_type": "code",
   "execution_count": 238,
   "id": "1abe0f1a",
   "metadata": {
    "ExecuteTime": {
     "end_time": "2022-11-22T21:25:12.041606Z",
     "start_time": "2022-11-22T21:25:12.038605Z"
    }
   },
   "outputs": [],
   "source": [
    "bag = BaggingClassifier(\n",
    "    base_estimator= DecisionTreeClassifier(),\n",
    "    n_estimators=500,\n",
    "    max_samples= 0.25,\n",
    "    bootstrap=False, #sampling without sampling\n",
    "    random_state=42,\n",
    "    n_jobs=-1\n",
    ")"
   ]
  },
  {
   "cell_type": "code",
   "execution_count": 239,
   "id": "1d2ed271",
   "metadata": {
    "ExecuteTime": {
     "end_time": "2022-11-22T21:25:19.674637Z",
     "start_time": "2022-11-22T21:25:15.631325Z"
    }
   },
   "outputs": [
    {
     "name": "stdout",
     "output_type": "stream",
     "text": [
      "Accuracy of Pasting Classifier is 91.8 %\n"
     ]
    }
   ],
   "source": [
    "bag.fit(X_train,y_train)\n",
    "y_pred = bag.predict(X_test)\n",
    "accuracy_pastingclassifier = accuracy_score(y_test,y_pred)\n",
    "print(\"Accuracy of Pasting Classifier is\",(accuracy_pastingclassifier*100),'%')"
   ]
  },
  {
   "cell_type": "code",
   "execution_count": 240,
   "id": "8e692cd1",
   "metadata": {
    "ExecuteTime": {
     "end_time": "2022-11-22T21:25:19.690074Z",
     "start_time": "2022-11-22T21:25:19.677729Z"
    }
   },
   "outputs": [
    {
     "data": {
      "text/plain": [
       "{'base_estimator__ccp_alpha': 0.0,\n",
       " 'base_estimator__class_weight': None,\n",
       " 'base_estimator__criterion': 'gini',\n",
       " 'base_estimator__max_depth': None,\n",
       " 'base_estimator__max_features': None,\n",
       " 'base_estimator__max_leaf_nodes': None,\n",
       " 'base_estimator__min_impurity_decrease': 0.0,\n",
       " 'base_estimator__min_samples_leaf': 1,\n",
       " 'base_estimator__min_samples_split': 2,\n",
       " 'base_estimator__min_weight_fraction_leaf': 0.0,\n",
       " 'base_estimator__random_state': None,\n",
       " 'base_estimator__splitter': 'best',\n",
       " 'base_estimator': DecisionTreeClassifier(),\n",
       " 'bootstrap': False,\n",
       " 'bootstrap_features': False,\n",
       " 'max_features': 1.0,\n",
       " 'max_samples': 0.25,\n",
       " 'n_estimators': 500,\n",
       " 'n_jobs': -1,\n",
       " 'oob_score': False,\n",
       " 'random_state': 42,\n",
       " 'verbose': 0,\n",
       " 'warm_start': False}"
      ]
     },
     "execution_count": 240,
     "metadata": {},
     "output_type": "execute_result"
    }
   ],
   "source": [
    "bag.get_params()"
   ]
  },
  {
   "cell_type": "code",
   "execution_count": 241,
   "id": "5bfbde1c",
   "metadata": {
    "ExecuteTime": {
     "end_time": "2022-11-22T21:25:45.743863Z",
     "start_time": "2022-11-22T21:25:45.450460Z"
    }
   },
   "outputs": [
    {
     "data": {
      "text/plain": [
       "(1875,)"
      ]
     },
     "execution_count": 241,
     "metadata": {},
     "output_type": "execute_result"
    }
   ],
   "source": [
    "bag.estimators_samples_[0].shape"
   ]
  },
  {
   "cell_type": "code",
   "execution_count": 242,
   "id": "e906e58c",
   "metadata": {
    "ExecuteTime": {
     "end_time": "2022-11-22T21:25:45.821578Z",
     "start_time": "2022-11-22T21:25:45.801551Z"
    }
   },
   "outputs": [
    {
     "data": {
      "text/plain": [
       "(10,)"
      ]
     },
     "execution_count": 242,
     "metadata": {},
     "output_type": "execute_result"
    }
   ],
   "source": [
    "bag.estimators_features_[0].shape "
   ]
  },
  {
   "cell_type": "markdown",
   "id": "0252a688",
   "metadata": {},
   "source": [
    "## Random Subspaces"
   ]
  },
  {
   "cell_type": "code",
   "execution_count": 243,
   "id": "c92d3724",
   "metadata": {
    "ExecuteTime": {
     "end_time": "2022-11-22T21:26:09.655422Z",
     "start_time": "2022-11-22T21:26:09.640322Z"
    }
   },
   "outputs": [],
   "source": [
    "bag = BaggingClassifier(\n",
    "    base_estimator=DecisionTreeClassifier(),\n",
    "    n_estimators=500, # total number of base model\n",
    "    max_samples=1.0, # as we only do column sampling and take all the rows\n",
    "    bootstrap=False,\n",
    "    max_features=0.5, # column sampling\n",
    "    bootstrap_features=True, # column sampling with repitition\n",
    "    random_state=42,n_jobs=-1\n",
    ")"
   ]
  },
  {
   "cell_type": "code",
   "execution_count": 244,
   "id": "e6480e83",
   "metadata": {
    "ExecuteTime": {
     "end_time": "2022-11-22T21:26:23.320487Z",
     "start_time": "2022-11-22T21:26:10.583880Z"
    }
   },
   "outputs": [
    {
     "name": "stdout",
     "output_type": "stream",
     "text": [
      "Accuracy of Random Subspace is 0.9152\n"
     ]
    }
   ],
   "source": [
    "bag.fit(X_train,y_train)\n",
    "y_pred = bag.predict(X_test)\n",
    "accuracy_randomsubspaces = accuracy_score(y_test,y_pred)\n",
    "print(\"Accuracy of Random Subspace is\",accuracy_score(y_test,y_pred))"
   ]
  },
  {
   "cell_type": "code",
   "execution_count": 245,
   "id": "1e152980",
   "metadata": {
    "ExecuteTime": {
     "end_time": "2022-11-22T21:26:23.336278Z",
     "start_time": "2022-11-22T21:26:23.323486Z"
    }
   },
   "outputs": [
    {
     "data": {
      "text/plain": [
       "{'base_estimator__ccp_alpha': 0.0,\n",
       " 'base_estimator__class_weight': None,\n",
       " 'base_estimator__criterion': 'gini',\n",
       " 'base_estimator__max_depth': None,\n",
       " 'base_estimator__max_features': None,\n",
       " 'base_estimator__max_leaf_nodes': None,\n",
       " 'base_estimator__min_impurity_decrease': 0.0,\n",
       " 'base_estimator__min_samples_leaf': 1,\n",
       " 'base_estimator__min_samples_split': 2,\n",
       " 'base_estimator__min_weight_fraction_leaf': 0.0,\n",
       " 'base_estimator__random_state': None,\n",
       " 'base_estimator__splitter': 'best',\n",
       " 'base_estimator': DecisionTreeClassifier(),\n",
       " 'bootstrap': False,\n",
       " 'bootstrap_features': True,\n",
       " 'max_features': 0.5,\n",
       " 'max_samples': 1.0,\n",
       " 'n_estimators': 500,\n",
       " 'n_jobs': -1,\n",
       " 'oob_score': False,\n",
       " 'random_state': 42,\n",
       " 'verbose': 0,\n",
       " 'warm_start': False}"
      ]
     },
     "execution_count": 245,
     "metadata": {},
     "output_type": "execute_result"
    }
   ],
   "source": [
    "bag.get_params()"
   ]
  },
  {
   "cell_type": "code",
   "execution_count": 246,
   "id": "ff9d5868",
   "metadata": {
    "ExecuteTime": {
     "end_time": "2022-11-22T21:26:23.555554Z",
     "start_time": "2022-11-22T21:26:23.338277Z"
    }
   },
   "outputs": [
    {
     "data": {
      "text/plain": [
       "(7500,)"
      ]
     },
     "execution_count": 246,
     "metadata": {},
     "output_type": "execute_result"
    }
   ],
   "source": [
    "bag.estimators_samples_[0].shape # all the rows ie. 7500 has been used"
   ]
  },
  {
   "cell_type": "code",
   "execution_count": 247,
   "id": "4c6f2d8d",
   "metadata": {
    "ExecuteTime": {
     "end_time": "2022-11-22T21:26:23.570556Z",
     "start_time": "2022-11-22T21:26:23.559518Z"
    }
   },
   "outputs": [
    {
     "data": {
      "text/plain": [
       "(5,)"
      ]
     },
     "execution_count": 247,
     "metadata": {},
     "output_type": "execute_result"
    }
   ],
   "source": [
    "bag.estimators_features_[0].shape # total columns used with column sampling is 5 out of 10 columns"
   ]
  },
  {
   "cell_type": "markdown",
   "id": "623b5e78",
   "metadata": {},
   "source": [
    "### Random Patches"
   ]
  },
  {
   "cell_type": "code",
   "execution_count": 248,
   "id": "b83cba62",
   "metadata": {
    "ExecuteTime": {
     "end_time": "2022-11-22T21:26:33.434421Z",
     "start_time": "2022-11-22T21:26:33.422902Z"
    }
   },
   "outputs": [],
   "source": [
    "bag = BaggingClassifier(\n",
    "    base_estimator = DecisionTreeClassifier(),\n",
    "    n_estimators=500,         # totals number of base models\n",
    "    max_samples=0.25,         # total number of rows\n",
    "    bootstrap=True,           # row sampling with repition\n",
    "    max_features=0.5,         # column sampling\n",
    "    bootstrap_features=True,  # column sampling repition \n",
    "    random_state=42,\n",
    "    n_jobs=-1\n",
    ")"
   ]
  },
  {
   "cell_type": "code",
   "execution_count": 249,
   "id": "65acd79c",
   "metadata": {
    "ExecuteTime": {
     "end_time": "2022-11-22T21:26:36.056930Z",
     "start_time": "2022-11-22T21:26:34.228930Z"
    }
   },
   "outputs": [
    {
     "name": "stdout",
     "output_type": "stream",
     "text": [
      "Random Patches classifier 0.9028\n"
     ]
    }
   ],
   "source": [
    "bag.fit(X_train,y_train)\n",
    "y_pred = bag.predict(X_test)\n",
    "accuracy_randompatches = accuracy_score(y_test,y_pred)\n",
    "print(\"Random Patches classifier\",accuracy_score(y_test,y_pred))"
   ]
  },
  {
   "cell_type": "code",
   "execution_count": 250,
   "id": "721cab8e",
   "metadata": {
    "ExecuteTime": {
     "end_time": "2022-11-22T21:26:36.072444Z",
     "start_time": "2022-11-22T21:26:36.060932Z"
    }
   },
   "outputs": [
    {
     "data": {
      "text/plain": [
       "{'base_estimator__ccp_alpha': 0.0,\n",
       " 'base_estimator__class_weight': None,\n",
       " 'base_estimator__criterion': 'gini',\n",
       " 'base_estimator__max_depth': None,\n",
       " 'base_estimator__max_features': None,\n",
       " 'base_estimator__max_leaf_nodes': None,\n",
       " 'base_estimator__min_impurity_decrease': 0.0,\n",
       " 'base_estimator__min_samples_leaf': 1,\n",
       " 'base_estimator__min_samples_split': 2,\n",
       " 'base_estimator__min_weight_fraction_leaf': 0.0,\n",
       " 'base_estimator__random_state': None,\n",
       " 'base_estimator__splitter': 'best',\n",
       " 'base_estimator': DecisionTreeClassifier(),\n",
       " 'bootstrap': True,\n",
       " 'bootstrap_features': True,\n",
       " 'max_features': 0.5,\n",
       " 'max_samples': 0.25,\n",
       " 'n_estimators': 500,\n",
       " 'n_jobs': -1,\n",
       " 'oob_score': False,\n",
       " 'random_state': 42,\n",
       " 'verbose': 0,\n",
       " 'warm_start': False}"
      ]
     },
     "execution_count": 250,
     "metadata": {},
     "output_type": "execute_result"
    }
   ],
   "source": [
    "bag.get_params()"
   ]
  },
  {
   "cell_type": "markdown",
   "id": "c4f3b7a0",
   "metadata": {},
   "source": [
    "#### Number of rows being used:"
   ]
  },
  {
   "cell_type": "code",
   "execution_count": 251,
   "id": "02fa909c",
   "metadata": {
    "ExecuteTime": {
     "end_time": "2022-11-22T21:26:36.680435Z",
     "start_time": "2022-11-22T21:26:36.595418Z"
    }
   },
   "outputs": [
    {
     "data": {
      "text/plain": [
       "(1875,)"
      ]
     },
     "execution_count": 251,
     "metadata": {},
     "output_type": "execute_result"
    }
   ],
   "source": [
    "bag.estimators_samples_[0].shape"
   ]
  },
  {
   "cell_type": "markdown",
   "id": "08b9c554",
   "metadata": {},
   "source": [
    "#### Number of columns being used:"
   ]
  },
  {
   "cell_type": "code",
   "execution_count": 252,
   "id": "a4fbff92",
   "metadata": {
    "ExecuteTime": {
     "end_time": "2022-11-22T21:26:37.501423Z",
     "start_time": "2022-11-22T21:26:37.483324Z"
    }
   },
   "outputs": [
    {
     "data": {
      "text/plain": [
       "(5,)"
      ]
     },
     "execution_count": 252,
     "metadata": {},
     "output_type": "execute_result"
    }
   ],
   "source": [
    "bag.estimators_features_[0].shape"
   ]
  },
  {
   "cell_type": "markdown",
   "id": "ee02e980",
   "metadata": {},
   "source": [
    "***"
   ]
  },
  {
   "cell_type": "markdown",
   "id": "bd6a750f",
   "metadata": {},
   "source": [
    "### OOB Score (Out of Bag samples)\n",
    "\n",
    "When we do row sampling, since we are doing it with replacement so there is a chance that there will be some rows which will not be given to any base model. And there may be some rows which are repeating in all the base models.\n",
    "\n",
    "So statistically there will be only 63% rows used for base models and rest 37% will never be used in any base models. So our Bagging classifiers have not even seen these 37% data during training.\n",
    "\n",
    "\n",
    "As we have never seen these rows, we can use these rows to check the performance of the model. We can try finding accuracy on this unseen data."
   ]
  },
  {
   "cell_type": "code",
   "execution_count": 253,
   "id": "e9f8f6c3",
   "metadata": {
    "ExecuteTime": {
     "end_time": "2022-11-22T21:27:09.709007Z",
     "start_time": "2022-11-22T21:27:09.699455Z"
    }
   },
   "outputs": [],
   "source": [
    "bag = BaggingClassifier(\n",
    "    base_estimator= DecisionTreeClassifier(),\n",
    "    n_estimators= 500,\n",
    "    max_samples= 0.25,\n",
    "    bootstrap=True,\n",
    "    oob_score= True, # this will be True for using OOB\n",
    "    random_state=42,\n",
    "    n_jobs=-1\n",
    ")"
   ]
  },
  {
   "cell_type": "code",
   "execution_count": 254,
   "id": "84abb59c",
   "metadata": {
    "ExecuteTime": {
     "end_time": "2022-11-22T21:27:16.262368Z",
     "start_time": "2022-11-22T21:27:11.161300Z"
    }
   },
   "outputs": [
    {
     "name": "stdout",
     "output_type": "stream",
     "text": [
      "OOB 0.916\n",
      "OOB score 0.9252\n"
     ]
    },
    {
     "data": {
      "text/plain": [
       "(10,)"
      ]
     },
     "execution_count": 254,
     "metadata": {},
     "output_type": "execute_result"
    }
   ],
   "source": [
    "bag.fit(X_train,y_train)\n",
    "y_pred = bag.predict(X_test)\n",
    "accuracy_oobscore = bag.oob_score_\n",
    "print(\"OOB\",accuracy_score(y_test,y_pred))\n",
    "print(\"OOB score\",bag.oob_score_),bag.estimators_samples_[0].shape\n",
    "\n",
    "bag.estimators_features_[0].shape"
   ]
  },
  {
   "cell_type": "code",
   "execution_count": 255,
   "id": "dbe8e6e7",
   "metadata": {
    "ExecuteTime": {
     "end_time": "2022-11-22T21:27:16.449721Z",
     "start_time": "2022-11-22T21:27:16.265850Z"
    }
   },
   "outputs": [
    {
     "data": {
      "text/plain": [
       "(1875,)"
      ]
     },
     "execution_count": 255,
     "metadata": {},
     "output_type": "execute_result"
    }
   ],
   "source": [
    "bag.estimators_samples_[0].shape"
   ]
  },
  {
   "cell_type": "code",
   "execution_count": 256,
   "id": "3517b17f",
   "metadata": {
    "ExecuteTime": {
     "end_time": "2022-11-22T21:27:16.465374Z",
     "start_time": "2022-11-22T21:27:16.451709Z"
    }
   },
   "outputs": [
    {
     "data": {
      "text/plain": [
       "(10,)"
      ]
     },
     "execution_count": 256,
     "metadata": {},
     "output_type": "execute_result"
    }
   ],
   "source": [
    "bag.estimators_features_[0].shape"
   ]
  },
  {
   "cell_type": "code",
   "execution_count": 257,
   "id": "4fbb9dc6",
   "metadata": {
    "ExecuteTime": {
     "end_time": "2022-11-22T21:27:16.480610Z",
     "start_time": "2022-11-22T21:27:16.468943Z"
    },
    "scrolled": true
   },
   "outputs": [
    {
     "data": {
      "text/plain": [
       "{'base_estimator__ccp_alpha': 0.0,\n",
       " 'base_estimator__class_weight': None,\n",
       " 'base_estimator__criterion': 'gini',\n",
       " 'base_estimator__max_depth': None,\n",
       " 'base_estimator__max_features': None,\n",
       " 'base_estimator__max_leaf_nodes': None,\n",
       " 'base_estimator__min_impurity_decrease': 0.0,\n",
       " 'base_estimator__min_samples_leaf': 1,\n",
       " 'base_estimator__min_samples_split': 2,\n",
       " 'base_estimator__min_weight_fraction_leaf': 0.0,\n",
       " 'base_estimator__random_state': None,\n",
       " 'base_estimator__splitter': 'best',\n",
       " 'base_estimator': DecisionTreeClassifier(),\n",
       " 'bootstrap': True,\n",
       " 'bootstrap_features': False,\n",
       " 'max_features': 1.0,\n",
       " 'max_samples': 0.25,\n",
       " 'n_estimators': 500,\n",
       " 'n_jobs': -1,\n",
       " 'oob_score': True,\n",
       " 'random_state': 42,\n",
       " 'verbose': 0,\n",
       " 'warm_start': False}"
      ]
     },
     "execution_count": 257,
     "metadata": {},
     "output_type": "execute_result"
    }
   ],
   "source": [
    "bag.get_params()"
   ]
  },
  {
   "cell_type": "markdown",
   "id": "224588c0",
   "metadata": {
    "id": "lo1D9KKKWEHY"
   },
   "source": [
    "# Bagging Tips\n",
    "\n",
    "- Bagging generally gives better results than Pasting\n",
    "- Good results come around the 25% to 50% row sampling mark\n",
    "- Random patches and subspaces should be used while dealing with high dimensional data\n",
    "- To find the correct hyperparameter values we can do GridSearchCV/RandomSearchCV"
   ]
  },
  {
   "cell_type": "markdown",
   "id": "0c1924e5",
   "metadata": {},
   "source": [
    "***"
   ]
  },
  {
   "cell_type": "markdown",
   "id": "7e33e521",
   "metadata": {
    "id": "Y0-90QqvWxt8"
   },
   "source": [
    "# Applying GridSearchCV"
   ]
  },
  {
   "cell_type": "code",
   "execution_count": 80,
   "id": "221a5e61",
   "metadata": {
    "id": "uWGDWhYkipb1"
   },
   "outputs": [],
   "source": [
    "from sklearn.model_selection import GridSearchCV"
   ]
  },
  {
   "cell_type": "raw",
   "id": "ac81d0fe",
   "metadata": {
    "ExecuteTime": {
     "end_time": "2022-11-22T21:27:48.218313Z",
     "start_time": "2022-11-22T21:27:48.213793Z"
    }
   },
   "source": [
    "parameters = {\n",
    "    'n_estimators': [50,100,200,400,500],\n",
    "    'max_samples': [0.2,0.25,0.5,0.75,0.1],\n",
    "    'bootstrap': [True,False],\n",
    "    'max_features': [0.1,0.4,0.7,1.0],\n",
    "}"
   ]
  },
  {
   "cell_type": "raw",
   "id": "c59df89d",
   "metadata": {
    "ExecuteTime": {
     "end_time": "2022-11-22T21:53:18.497949Z",
     "start_time": "2022-11-22T21:53:18.481948Z"
    }
   },
   "source": [
    "search = GridSearchCV(BaggingClassifier(n_jobs=-1),parameters, cv = 5,n_jobs=-1,verbose=2)"
   ]
  },
  {
   "cell_type": "markdown",
   "id": "598246bb",
   "metadata": {},
   "source": [
    "#### note: running will take tooooooooo much time :25 mins"
   ]
  },
  {
   "cell_type": "raw",
   "id": "e7747bc9",
   "metadata": {
    "ExecuteTime": {
     "end_time": "2022-11-22T22:09:32.219346Z",
     "start_time": "2022-11-22T21:53:25.589057Z"
    }
   },
   "source": [
    "search.fit(X_train,y_train)"
   ]
  },
  {
   "cell_type": "raw",
   "id": "4462aeec",
   "metadata": {
    "ExecuteTime": {
     "end_time": "2022-11-22T22:10:06.531735Z",
     "start_time": "2022-11-22T22:10:06.516119Z"
    }
   },
   "source": [
    "search.best_params_"
   ]
  },
  {
   "cell_type": "raw",
   "id": "0ce193d9",
   "metadata": {
    "ExecuteTime": {
     "end_time": "2022-11-22T22:10:39.497580Z",
     "start_time": "2022-11-22T22:10:39.494028Z"
    }
   },
   "source": [
    "search.get_params()"
   ]
  },
  {
   "cell_type": "code",
   "execution_count": 293,
   "id": "87f25466",
   "metadata": {
    "ExecuteTime": {
     "end_time": "2022-11-22T22:19:42.154995Z",
     "start_time": "2022-11-22T22:19:42.141620Z"
    }
   },
   "outputs": [],
   "source": [
    "bag = BaggingClassifier(\n",
    "    base_estimator= DecisionTreeClassifier(),\n",
    "    n_estimators= 400,\n",
    "    max_samples= 0.75,\n",
    "    bootstrap=True,\n",
    "    max_features=0.8,\n",
    "    oob_score= True, # this will be True for using OOB\n",
    "    random_state=42,\n",
    "    n_jobs=-1\n",
    ")"
   ]
  },
  {
   "cell_type": "code",
   "execution_count": 294,
   "id": "650a8039",
   "metadata": {
    "ExecuteTime": {
     "end_time": "2022-11-22T22:19:49.484270Z",
     "start_time": "2022-11-22T22:19:42.685168Z"
    }
   },
   "outputs": [
    {
     "data": {
      "text/plain": [
       "BaggingClassifier(base_estimator=DecisionTreeClassifier(), max_features=0.8,\n",
       "                  max_samples=0.75, n_estimators=400, n_jobs=-1, oob_score=True,\n",
       "                  random_state=42)"
      ]
     },
     "execution_count": 294,
     "metadata": {},
     "output_type": "execute_result"
    }
   ],
   "source": [
    "bag.fit(X_train,y_train)"
   ]
  },
  {
   "cell_type": "code",
   "execution_count": 295,
   "id": "a2e829de",
   "metadata": {
    "ExecuteTime": {
     "end_time": "2022-11-22T22:19:54.616601Z",
     "start_time": "2022-11-22T22:19:49.487259Z"
    }
   },
   "outputs": [
    {
     "name": "stdout",
     "output_type": "stream",
     "text": [
      "accuracy of bagging classifier 0.9252\n",
      "OOB score: 0.9297333333333333\n"
     ]
    },
    {
     "data": {
      "text/plain": [
       "(8,)"
      ]
     },
     "execution_count": 295,
     "metadata": {},
     "output_type": "execute_result"
    }
   ],
   "source": [
    "bag.fit(X_train,y_train)\n",
    "y_pred = bag.predict(X_test)\n",
    "print(\"accuracy of bagging classifier\",accuracy_score(y_test,y_pred))\n",
    "accuracy_oobscore = bag.oob_score_\n",
    "print('OOB score:',accuracy_oobscore)\n",
    "\n",
    "bag.estimators_features_[0].shape"
   ]
  },
  {
   "cell_type": "markdown",
   "id": "69ea203b",
   "metadata": {},
   "source": [
    "### Results"
   ]
  },
  {
   "cell_type": "code",
   "execution_count": 302,
   "id": "89f93158",
   "metadata": {
    "ExecuteTime": {
     "end_time": "2022-11-22T22:20:37.117040Z",
     "start_time": "2022-11-22T22:20:37.100214Z"
    }
   },
   "outputs": [
    {
     "name": "stdout",
     "output_type": "stream",
     "text": [
      "Accuracy of Single Decision Tree is  88.96\n",
      "Accuracy of Bagging using Decision Tree is  91.60000000000001\n",
      "Accuracy of Bagging using SVM is  91.08000000000001\n",
      "Accuracy of Pasting Classifier using Decision Tree is  91.8\n",
      "Accuracy of Random Patches using Decision Tree is  90.28\n",
      "Accuracy of OOB using Decision Tree is  92.97333333333333\n"
     ]
    }
   ],
   "source": [
    "print(\"Accuracy of Single Decision Tree is \",accuracy_singledcisiontree*100)\n",
    "print(\"Accuracy of Bagging using Decision Tree is \",accuracy_baggingDecisionTree*100)\n",
    "print(\"Accuracy of Bagging using SVM is \",accuracy_baggingSVM*100)\n",
    "print(\"Accuracy of Pasting Classifier using Decision Tree is \",accuracy_pastingclassifier*100)\n",
    "print(\"Accuracy of Random Patches using Decision Tree is \",accuracy_randompatches*100)\n",
    "print(\"Accuracy of OOB using Decision Tree is \",accuracy_oobscore*100)"
   ]
  },
  {
   "cell_type": "markdown",
   "id": "b434db07",
   "metadata": {},
   "source": [
    "***"
   ]
  },
  {
   "cell_type": "markdown",
   "id": "9b915b19",
   "metadata": {},
   "source": [
    "# Bagging Regressor - Models\n",
    "\n",
    "Since it is a Regression model so output will be numerical. So when we do aggregation of all models together, we will use ***Mean.***"
   ]
  },
  {
   "cell_type": "code",
   "execution_count": 303,
   "id": "dc4e238f",
   "metadata": {
    "ExecuteTime": {
     "end_time": "2022-11-22T22:21:16.858866Z",
     "start_time": "2022-11-22T22:21:16.835779Z"
    }
   },
   "outputs": [
    {
     "name": "stdout",
     "output_type": "stream",
     "text": [
      "Dataset features names : ['CRIM' 'ZN' 'INDUS' 'CHAS' 'NOX' 'RM' 'AGE' 'DIS' 'RAD' 'TAX' 'PTRATIO'\n",
      " 'B' 'LSTAT']\n",
      "Dataset features size : (506, 13)\n",
      "Dataset target size : (506,)\n"
     ]
    },
    {
     "name": "stderr",
     "output_type": "stream",
     "text": [
      "C:\\ProgramData\\Anaconda3\\lib\\site-packages\\sklearn\\utils\\deprecation.py:87: FutureWarning: Function load_boston is deprecated; `load_boston` is deprecated in 1.0 and will be removed in 1.2.\n",
      "\n",
      "    The Boston housing prices dataset has an ethical problem. You can refer to\n",
      "    the documentation of this function for further details.\n",
      "\n",
      "    The scikit-learn maintainers therefore strongly discourage the use of this\n",
      "    dataset unless the purpose of the code is to study and educate about\n",
      "    ethical issues in data science and machine learning.\n",
      "\n",
      "    In this special case, you can fetch the dataset from the original\n",
      "    source::\n",
      "\n",
      "        import pandas as pd\n",
      "        import numpy as np\n",
      "\n",
      "\n",
      "        data_url = \"http://lib.stat.cmu.edu/datasets/boston\"\n",
      "        raw_df = pd.read_csv(data_url, sep=\"\\s+\", skiprows=22, header=None)\n",
      "        data = np.hstack([raw_df.values[::2, :], raw_df.values[1::2, :2]])\n",
      "        target = raw_df.values[1::2, 2]\n",
      "\n",
      "    Alternative datasets include the California housing dataset (i.e.\n",
      "    :func:`~sklearn.datasets.fetch_california_housing`) and the Ames housing\n",
      "    dataset. You can load the datasets as follows::\n",
      "\n",
      "        from sklearn.datasets import fetch_california_housing\n",
      "        housing = fetch_california_housing()\n",
      "\n",
      "    for the California housing dataset and::\n",
      "\n",
      "        from sklearn.datasets import fetch_openml\n",
      "        housing = fetch_openml(name=\"house_prices\", as_frame=True)\n",
      "\n",
      "    for the Ames housing dataset.\n",
      "    \n",
      "  warnings.warn(msg, category=FutureWarning)\n"
     ]
    }
   ],
   "source": [
    "from sklearn import datasets\n",
    "\n",
    "boston = datasets.load_boston()\n",
    "X_boston, Y_boston = boston.data, boston.target\n",
    "print('Dataset features names : '+str(boston.feature_names))\n",
    "print('Dataset features size : '+str(boston.data.shape))\n",
    "print('Dataset target size : '+str(boston.target.shape))"
   ]
  },
  {
   "cell_type": "code",
   "execution_count": 304,
   "id": "f921410f",
   "metadata": {
    "ExecuteTime": {
     "end_time": "2022-11-22T22:21:17.061273Z",
     "start_time": "2022-11-22T22:21:17.048747Z"
    }
   },
   "outputs": [],
   "source": [
    "from sklearn.linear_model import LinearRegression\n",
    "from sklearn.neighbors import KNeighborsRegressor\n",
    "from sklearn.model_selection import GridSearchCV\n",
    "from sklearn.metrics import r2_score\n",
    "from sklearn.model_selection import train_test_split\n",
    "from sklearn.tree import DecisionTreeRegressor"
   ]
  },
  {
   "cell_type": "code",
   "execution_count": 305,
   "id": "9dc93f99",
   "metadata": {
    "ExecuteTime": {
     "end_time": "2022-11-22T22:21:17.343105Z",
     "start_time": "2022-11-22T22:21:17.327823Z"
    }
   },
   "outputs": [],
   "source": [
    "X_train, X_test, Y_train, Y_test = train_test_split(X_boston, Y_boston, test_size=0.25, random_state = 123)"
   ]
  },
  {
   "cell_type": "code",
   "execution_count": 306,
   "id": "3417f60f",
   "metadata": {
    "ExecuteTime": {
     "end_time": "2022-11-22T22:21:21.278962Z",
     "start_time": "2022-11-22T22:21:21.273050Z"
    }
   },
   "outputs": [
    {
     "name": "stdout",
     "output_type": "stream",
     "text": [
      "Train sets size :  (379, 13) (379,)\n",
      "\n",
      " Test sets size :  (127, 13) (127,)\n"
     ]
    }
   ],
   "source": [
    "print('Train sets size : ', X_train.shape,  Y_train.shape)\n",
    "print('\\n Test sets size : ', X_test.shape, Y_test.shape)"
   ]
  },
  {
   "cell_type": "markdown",
   "id": "6a3b5c1b",
   "metadata": {},
   "source": [
    "#### Normal Regression models:"
   ]
  },
  {
   "cell_type": "code",
   "execution_count": 307,
   "id": "88484dc3",
   "metadata": {
    "ExecuteTime": {
     "end_time": "2022-11-22T22:21:23.149433Z",
     "start_time": "2022-11-22T22:21:23.134917Z"
    }
   },
   "outputs": [],
   "source": [
    "lr = LinearRegression()\n",
    "dt = DecisionTreeRegressor()\n",
    "knn = KNeighborsRegressor()"
   ]
  },
  {
   "cell_type": "code",
   "execution_count": 308,
   "id": "2855baeb",
   "metadata": {
    "ExecuteTime": {
     "end_time": "2022-11-22T22:21:23.477335Z",
     "start_time": "2022-11-22T22:21:23.374490Z"
    }
   },
   "outputs": [
    {
     "data": {
      "text/plain": [
       "KNeighborsRegressor()"
      ]
     },
     "execution_count": 308,
     "metadata": {},
     "output_type": "execute_result"
    }
   ],
   "source": [
    "lr.fit(X_train,Y_train)\n",
    "dt.fit(X_train,Y_train)\n",
    "knn.fit(X_train,Y_train)"
   ]
  },
  {
   "cell_type": "code",
   "execution_count": 309,
   "id": "706cebf5",
   "metadata": {
    "ExecuteTime": {
     "end_time": "2022-11-22T22:21:23.647800Z",
     "start_time": "2022-11-22T22:21:23.638270Z"
    }
   },
   "outputs": [
    {
     "data": {
      "text/plain": [
       "{'copy_X': True,\n",
       " 'fit_intercept': True,\n",
       " 'n_jobs': None,\n",
       " 'normalize': 'deprecated',\n",
       " 'positive': False}"
      ]
     },
     "execution_count": 309,
     "metadata": {},
     "output_type": "execute_result"
    }
   ],
   "source": [
    "lr.get_params()"
   ]
  },
  {
   "cell_type": "code",
   "execution_count": 310,
   "id": "e2f83336",
   "metadata": {
    "ExecuteTime": {
     "end_time": "2022-11-22T22:21:23.911072Z",
     "start_time": "2022-11-22T22:21:23.894087Z"
    }
   },
   "outputs": [
    {
     "data": {
      "text/plain": [
       "{'ccp_alpha': 0.0,\n",
       " 'criterion': 'squared_error',\n",
       " 'max_depth': None,\n",
       " 'max_features': None,\n",
       " 'max_leaf_nodes': None,\n",
       " 'min_impurity_decrease': 0.0,\n",
       " 'min_samples_leaf': 1,\n",
       " 'min_samples_split': 2,\n",
       " 'min_weight_fraction_leaf': 0.0,\n",
       " 'random_state': None,\n",
       " 'splitter': 'best'}"
      ]
     },
     "execution_count": 310,
     "metadata": {},
     "output_type": "execute_result"
    }
   ],
   "source": [
    "dt.get_params()"
   ]
  },
  {
   "cell_type": "code",
   "execution_count": 311,
   "id": "53490681",
   "metadata": {
    "ExecuteTime": {
     "end_time": "2022-11-22T22:21:24.161561Z",
     "start_time": "2022-11-22T22:21:24.151956Z"
    }
   },
   "outputs": [
    {
     "data": {
      "text/plain": [
       "{'algorithm': 'auto',\n",
       " 'leaf_size': 30,\n",
       " 'metric': 'minkowski',\n",
       " 'metric_params': None,\n",
       " 'n_jobs': None,\n",
       " 'n_neighbors': 5,\n",
       " 'p': 2,\n",
       " 'weights': 'uniform'}"
      ]
     },
     "execution_count": 311,
     "metadata": {},
     "output_type": "execute_result"
    }
   ],
   "source": [
    "knn.get_params()"
   ]
  },
  {
   "cell_type": "code",
   "execution_count": 312,
   "id": "233a7a46",
   "metadata": {
    "ExecuteTime": {
     "end_time": "2022-11-22T22:21:24.410812Z",
     "start_time": "2022-11-22T22:21:24.399259Z"
    }
   },
   "outputs": [],
   "source": [
    "y_pred1 = lr.predict(X_test)\n",
    "y_pred2 = dt.predict(X_test)\n",
    "y_pred3 = knn.predict(X_test)"
   ]
  },
  {
   "cell_type": "code",
   "execution_count": 313,
   "id": "5f357ae2",
   "metadata": {
    "ExecuteTime": {
     "end_time": "2022-11-22T22:21:24.678079Z",
     "start_time": "2022-11-22T22:21:24.671471Z"
    }
   },
   "outputs": [
    {
     "name": "stdout",
     "output_type": "stream",
     "text": [
      "R^2 score for LR 0.6862448857295773\n",
      "R^2 score for DT 0.46029610966299883\n",
      "R^2 score for KNN 0.4848255965697358\n"
     ]
    }
   ],
   "source": [
    "print(\"R^2 score for LR\",r2_score(Y_test,y_pred1))\n",
    "print(\"R^2 score for DT\",r2_score(Y_test,y_pred2))\n",
    "print(\"R^2 score for KNN\",r2_score(Y_test,y_pred3))"
   ]
  },
  {
   "cell_type": "markdown",
   "id": "cebfde8a",
   "metadata": {},
   "source": [
    "#### Bagging Regressor Model"
   ]
  },
  {
   "cell_type": "code",
   "execution_count": 314,
   "id": "c270edaa",
   "metadata": {
    "ExecuteTime": {
     "end_time": "2022-11-22T22:21:25.222742Z",
     "start_time": "2022-11-22T22:21:25.198849Z"
    }
   },
   "outputs": [
    {
     "data": {
      "text/plain": [
       "BaggingRegressor(random_state=1)"
      ]
     },
     "execution_count": 314,
     "metadata": {},
     "output_type": "execute_result"
    }
   ],
   "source": [
    "from sklearn.ensemble import BaggingRegressor\n",
    "\n",
    "bag_regressor = BaggingRegressor(random_state=1)\n",
    "bag_regressor.fit(X_train, Y_train)"
   ]
  },
  {
   "cell_type": "code",
   "execution_count": 315,
   "id": "87838b02",
   "metadata": {
    "ExecuteTime": {
     "end_time": "2022-11-22T22:21:25.458171Z",
     "start_time": "2022-11-22T22:21:25.447920Z"
    }
   },
   "outputs": [
    {
     "name": "stdout",
     "output_type": "stream",
     "text": [
      "Training Coefficient of R^2 : 0.975\n",
      "Test Coefficient of R^2 : 0.803\n"
     ]
    }
   ],
   "source": [
    "Y_preds = bag_regressor.predict(X_test)\n",
    "\n",
    "print('Training Coefficient of R^2 : %.3f'%bag_regressor.score(X_train, Y_train))\n",
    "print('Test Coefficient of R^2 : %.3f'%bag_regressor.score(X_test, Y_test))"
   ]
  },
  {
   "cell_type": "code",
   "execution_count": 324,
   "id": "e0b61166",
   "metadata": {
    "ExecuteTime": {
     "end_time": "2022-11-22T22:37:39.843828Z",
     "start_time": "2022-11-22T22:37:07.733123Z"
    }
   },
   "outputs": [
    {
     "name": "stdout",
     "output_type": "stream",
     "text": [
      "Fitting 3 folds for each of 144 candidates, totalling 432 fits\n",
      "\n",
      "Train R^2 Score : 0.980\n",
      "\n",
      "Test R^2 Score : 0.804\n",
      "\n",
      "Best R^2 Score Through Grid Search : 0.863\n",
      "\n",
      "Best Parameters :  {'base_estimator': None, 'bootstrap': True, 'bootstrap_features': False, 'max_features': 1.0, 'max_samples': 1.0, 'n_estimators': 50}\n",
      "Wall time: 32.1 s\n"
     ]
    }
   ],
   "source": [
    "%%time\n",
    "\n",
    "n_samples = boston.data.shape[0]\n",
    "n_features = boston.data.shape[1]\n",
    "\n",
    "params = {'base_estimator': [None, LinearRegression(), KNeighborsRegressor()],\n",
    "          'n_estimators': [20,50,100],\n",
    "          'max_samples': [0.5,1.0],\n",
    "          'max_features': [0.5,1.0],\n",
    "          'bootstrap': [True, False],\n",
    "          'bootstrap_features': [True, False]}\n",
    "\n",
    "bagging_regressor_grid = GridSearchCV(BaggingRegressor(random_state=1, n_jobs=-1), param_grid =params, cv=3, n_jobs=-1, verbose=1)\n",
    "bagging_regressor_grid.fit(X_train, Y_train)\n",
    "\n",
    "print()\n",
    "print('Train R^2 Score : %.3f'%bagging_regressor_grid.best_estimator_.score(X_train, Y_train))\n",
    "print()\n",
    "print('Test R^2 Score : %.3f'%bagging_regressor_grid.best_estimator_.score(X_test, Y_test))\n",
    "print()\n",
    "print('Best R^2 Score Through Grid Search : %.3f'%bagging_regressor_grid.best_score_)\n",
    "print()\n",
    "print('Best Parameters : ',bagging_regressor_grid.best_params_)"
   ]
  },
  {
   "cell_type": "markdown",
   "id": "0897f027",
   "metadata": {},
   "source": [
    "None means Decision Tree is best"
   ]
  },
  {
   "cell_type": "raw",
   "id": "30fcf9b8",
   "metadata": {
    "ExecuteTime": {
     "end_time": "2022-11-22T22:21:57.125721Z",
     "start_time": "2022-11-22T22:21:57.113031Z"
    }
   },
   "source": [
    "import os\n",
    "  \n",
    "n_cpu = os.cpu_count()\n",
    "print(\"Number of CPUs in the system:\", n_cpu)"
   ]
  },
  {
   "cell_type": "code",
   "execution_count": 320,
   "id": "7c00f196",
   "metadata": {
    "ExecuteTime": {
     "end_time": "2022-11-22T22:30:54.266294Z",
     "start_time": "2022-11-22T22:30:54.257293Z"
    }
   },
   "outputs": [
    {
     "name": "stdout",
     "output_type": "stream",
     "text": [
      "Number of CPUs in the system: 16\n"
     ]
    }
   ],
   "source": [
    "print('Number of CPUs in the system: 16')"
   ]
  },
  {
   "cell_type": "code",
   "execution_count": null,
   "id": "f0fb1810",
   "metadata": {},
   "outputs": [],
   "source": []
  },
  {
   "cell_type": "code",
   "execution_count": null,
   "id": "6a47d776",
   "metadata": {},
   "outputs": [],
   "source": []
  },
  {
   "cell_type": "code",
   "execution_count": null,
   "id": "b9a12c58",
   "metadata": {},
   "outputs": [],
   "source": []
  }
 ],
 "metadata": {
  "kernelspec": {
   "display_name": "Python 3 (ipykernel)",
   "language": "python",
   "name": "python3"
  },
  "language_info": {
   "codemirror_mode": {
    "name": "ipython",
    "version": 3
   },
   "file_extension": ".py",
   "mimetype": "text/x-python",
   "name": "python",
   "nbconvert_exporter": "python",
   "pygments_lexer": "ipython3",
   "version": "3.9.13"
  },
  "varInspector": {
   "cols": {
    "lenName": 16,
    "lenType": 16,
    "lenVar": 40
   },
   "kernels_config": {
    "python": {
     "delete_cmd_postfix": "",
     "delete_cmd_prefix": "del ",
     "library": "var_list.py",
     "varRefreshCmd": "print(var_dic_list())"
    },
    "r": {
     "delete_cmd_postfix": ") ",
     "delete_cmd_prefix": "rm(",
     "library": "var_list.r",
     "varRefreshCmd": "cat(var_dic_list()) "
    }
   },
   "types_to_exclude": [
    "module",
    "function",
    "builtin_function_or_method",
    "instance",
    "_Feature"
   ],
   "window_display": false
  }
 },
 "nbformat": 4,
 "nbformat_minor": 5
}
