{
 "cells": [
  {
   "cell_type": "markdown",
   "id": "4d7a4774",
   "metadata": {},
   "source": [
    "https://www.youtube.com/watch?v=TuIgtitqJho"
   ]
  },
  {
   "cell_type": "markdown",
   "id": "808e7b65",
   "metadata": {},
   "source": [
    "## All models should have same number of folds"
   ]
  },
  {
   "cell_type": "code",
   "execution_count": null,
   "id": "f3cdea26",
   "metadata": {},
   "outputs": [],
   "source": []
  }
 ],
 "metadata": {
  "kernelspec": {
   "display_name": "Python 3 (ipykernel)",
   "language": "python",
   "name": "python3"
  },
  "language_info": {
   "codemirror_mode": {
    "name": "ipython",
    "version": 3
   },
   "file_extension": ".py",
   "mimetype": "text/x-python",
   "name": "python",
   "nbconvert_exporter": "python",
   "pygments_lexer": "ipython3",
   "version": "3.9.13"
  }
 },
 "nbformat": 4,
 "nbformat_minor": 5
}
