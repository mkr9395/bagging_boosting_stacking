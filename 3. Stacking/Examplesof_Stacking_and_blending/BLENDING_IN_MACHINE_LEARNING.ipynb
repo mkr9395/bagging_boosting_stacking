{
  "nbformat": 4,
  "nbformat_minor": 0,
  "metadata": {
    "colab": {
      "name": "BLENDING IN MACHINE LEARNING.ipynb",
      "provenance": []
    },
    "kernelspec": {
      "name": "python3",
      "display_name": "Python 3"
    }
  },
  "cells": [
    {
      "cell_type": "markdown",
      "metadata": {
        "id": "59qzatBwmxYN"
      },
      "source": [
        "# BLENDING:\r\n",
        "\r\n",
        "**Blending** is an ensemble machine learning algorithm.\r\n",
        "\r\n",
        "It is a colloquial name for stacked generalization or stacking ensemble where instead of fitting the meta-model on **out-of-fold predictions** made by the base model, it is fit on predictions made on a **holdout dataset**.\r\n",
        "\r\n",
        "**Blending**: Stacking-type ensemble where the meta-model is trained on predictions made on a **holdout dataset**.\r\n",
        "Stacking: Stacking-type ensemble where the meta-model is trained on **out-of-fold predictions** made during k-fold cross-validation."
      ]
    },
    {
      "cell_type": "code",
      "metadata": {
        "id": "ZF5GTuaam58D"
      },
      "source": [
        "from numpy import hstack\r\n",
        "from sklearn.datasets import make_classification\r\n",
        "from sklearn.model_selection import train_test_split\r\n",
        "from sklearn.metrics import accuracy_score\r\n",
        "from sklearn.linear_model import LogisticRegression\r\n",
        "from sklearn.neighbors import KNeighborsClassifier\r\n",
        "from sklearn.tree import DecisionTreeClassifier\r\n",
        "from sklearn.svm import SVC\r\n",
        "from sklearn.naive_bayes import GaussianNB\r\n",
        " \r\n",
        "# get the dataset\r\n",
        "def get_dataset():\r\n",
        "\tX, y = make_classification(n_samples=10000, n_features=20, n_informative=15, n_redundant=5, random_state=7)\r\n",
        "\treturn X, y\r\n"
      ],
      "execution_count": 1,
      "outputs": []
    },
    {
      "cell_type": "code",
      "metadata": {
        "id": "B77mOfKOnZ6-"
      },
      "source": [
        "# get a list of base models\r\n",
        "def get_models():\r\n",
        "\tmodels = list()\r\n",
        "\tmodels.append(('lr', LogisticRegression()))\r\n",
        "\tmodels.append(('knn', KNeighborsClassifier()))\r\n",
        "\tmodels.append(('cart', DecisionTreeClassifier()))\r\n",
        "\tmodels.append(('svm', SVC()))\r\n",
        "\tmodels.append(('bayes', GaussianNB()))\r\n",
        "\treturn models"
      ],
      "execution_count": 2,
      "outputs": []
    },
    {
      "cell_type": "code",
      "metadata": {
        "id": "s42sj_GmnaAm"
      },
      "source": [
        "# fit the blending ensemble\r\n",
        "def fit_ensemble(models, X_train, X_val, y_train, y_val):\r\n",
        "\t# fit all models on the training set and predict on hold out set\r\n",
        "\tmeta_X = list()\r\n",
        "\tfor name, model in models:\r\n",
        "\t\t# fit in training set\r\n",
        "\t\tmodel.fit(X_train, y_train)\r\n",
        "\t\t# predict on hold out set\r\n",
        "\t\tyhat = model.predict(X_val)\r\n",
        "\t\t# reshape predictions into a matrix with one column\r\n",
        "\t\tyhat = yhat.reshape(len(yhat), 1)\r\n",
        "\t\t# store predictions as input for blending\r\n",
        "\t\tmeta_X.append(yhat)\r\n",
        "\t# create 2d array from predictions, each set is an input feature\r\n",
        "\tmeta_X = hstack(meta_X)\r\n",
        "\t# define blending model\r\n",
        "\tblender = LogisticRegression() #meta-model\r\n",
        "\t# fit on predictions from base models\r\n",
        "\tblender.fit(meta_X, y_val)\r\n",
        "\treturn blender"
      ],
      "execution_count": 3,
      "outputs": []
    },
    {
      "cell_type": "code",
      "metadata": {
        "id": "b5IV1CpNnaEV"
      },
      "source": [
        "# make a prediction with the blending ensemble\r\n",
        "def predict_ensemble(models, blender, X_test):\r\n",
        "\t# make predictions with base models\r\n",
        "\tmeta_X = list()\r\n",
        "\tfor name, model in models:\r\n",
        "\t\t# predict with base model\r\n",
        "\t\tyhat = model.predict(X_test)\r\n",
        "\t\t# reshape predictions into a matrix with one column\r\n",
        "\t\tyhat = yhat.reshape(len(yhat), 1)\r\n",
        "\t\t# store prediction\r\n",
        "\t\tmeta_X.append(yhat)\r\n",
        "\t# create 2d array from predictions, each set is an input feature\r\n",
        "\tmeta_X = hstack(meta_X)\r\n",
        "\t# predict\r\n",
        "\treturn blender.predict(meta_X)\r\n",
        " "
      ],
      "execution_count": 4,
      "outputs": []
    },
    {
      "cell_type": "code",
      "metadata": {
        "colab": {
          "base_uri": "https://localhost:8080/"
        },
        "id": "BKb-3hQqnaHB",
        "outputId": "78daf2a1-35f0-40ec-d47b-8d23b24bcd94"
      },
      "source": [
        "# define dataset\r\n",
        "X, y = get_dataset()\r\n",
        "# split dataset into train and test sets\r\n",
        "X_train_full, X_test, y_train_full, y_test = train_test_split(X, y, test_size=0.5, random_state=1)\r\n",
        "# split training set into train and validation sets\r\n",
        "X_train, X_val, y_train, y_val = train_test_split(X_train_full, y_train_full, test_size=0.33, random_state=1)\r\n",
        "# summarize data split\r\n",
        "print('Train: %s, Val: %s, Test: %s' % (X_train.shape, X_val.shape, X_test.shape))\r\n",
        "# create the base models\r\n",
        "models = get_models()\r\n",
        "# train the blending ensemble\r\n",
        "blender = fit_ensemble(models, X_train, X_val, y_train, y_val)\r\n",
        "# make predictions on test set\r\n",
        "yhat = predict_ensemble(models, blender, X_test)\r\n",
        "# evaluate predictions\r\n",
        "score = accuracy_score(y_test, yhat)\r\n",
        "print('Blending Accuracy: %.3f' % (score*100))"
      ],
      "execution_count": 5,
      "outputs": [
        {
          "output_type": "stream",
          "text": [
            "Train: (3350, 20), Val: (1650, 20), Test: (5000, 20)\n",
            "Blending Accuracy: 97.820\n"
          ],
          "name": "stdout"
        }
      ]
    },
    {
      "cell_type": "code",
      "metadata": {
        "id": "-RfZO2yjwXD4"
      },
      "source": [
        ""
      ],
      "execution_count": null,
      "outputs": []
    }
  ]
}